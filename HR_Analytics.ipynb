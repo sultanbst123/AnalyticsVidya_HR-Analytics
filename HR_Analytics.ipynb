{
  "nbformat": 4,
  "nbformat_minor": 0,
  "metadata": {
    "kernelspec": {
      "display_name": "Python 3",
      "language": "python",
      "name": "python3"
    },
    "language_info": {
      "codemirror_mode": {
        "name": "ipython",
        "version": 3
      },
      "file_extension": ".py",
      "mimetype": "text/x-python",
      "name": "python",
      "nbconvert_exporter": "python",
      "pygments_lexer": "ipython3",
      "version": "3.8.3"
    },
    "colab": {
      "name": "HR_Analytics.ipynb",
      "provenance": [],
      "collapsed_sections": [
        "rsOHPWQKxtzT",
        "xnXi9cijzT77",
        "Uhu4zkyn0KhV",
        "xxafRtxOl8rW",
        "WfdaA8a6oDH5",
        "anQnqvxepFyY",
        "pzc2Hr1_n_zQ",
        "iMeZoGAAtyul",
        "tlTzk2ngs8w3"
      ],
      "include_colab_link": true
    },
    "widgets": {
      "application/vnd.jupyter.widget-state+json": {
        "f49ff8d350c0474090b68066dd5f2d69": {
          "model_module": "@jupyter-widgets/controls",
          "model_name": "HBoxModel",
          "model_module_version": "1.5.0",
          "state": {
            "_view_name": "HBoxView",
            "_dom_classes": [],
            "_model_name": "HBoxModel",
            "_view_module": "@jupyter-widgets/controls",
            "_model_module_version": "1.5.0",
            "_view_count": null,
            "_view_module_version": "1.5.0",
            "box_style": "",
            "layout": "IPY_MODEL_c0d93aae00d8417e87b2fc3ef01c65ec",
            "_model_module": "@jupyter-widgets/controls",
            "children": [
              "IPY_MODEL_fe3b4baeea5e40cab5f729000da0cfd9",
              "IPY_MODEL_d02ec57f5ae849a98b5629dea5495743",
              "IPY_MODEL_93f969ad49c5437189b761a9af84312d"
            ]
          }
        },
        "c0d93aae00d8417e87b2fc3ef01c65ec": {
          "model_module": "@jupyter-widgets/base",
          "model_name": "LayoutModel",
          "model_module_version": "1.2.0",
          "state": {
            "_view_name": "LayoutView",
            "grid_template_rows": null,
            "right": null,
            "justify_content": null,
            "_view_module": "@jupyter-widgets/base",
            "overflow": null,
            "_model_module_version": "1.2.0",
            "_view_count": null,
            "flex_flow": null,
            "width": null,
            "min_width": null,
            "border": null,
            "align_items": null,
            "bottom": null,
            "_model_module": "@jupyter-widgets/base",
            "top": null,
            "grid_column": null,
            "overflow_y": null,
            "overflow_x": null,
            "grid_auto_flow": null,
            "grid_area": null,
            "grid_template_columns": null,
            "flex": null,
            "_model_name": "LayoutModel",
            "justify_items": null,
            "grid_row": null,
            "max_height": null,
            "align_content": null,
            "visibility": null,
            "align_self": null,
            "height": null,
            "min_height": null,
            "padding": null,
            "grid_auto_rows": null,
            "grid_gap": null,
            "max_width": null,
            "order": null,
            "_view_module_version": "1.2.0",
            "grid_template_areas": null,
            "object_position": null,
            "object_fit": null,
            "grid_auto_columns": null,
            "margin": null,
            "display": null,
            "left": null
          }
        },
        "fe3b4baeea5e40cab5f729000da0cfd9": {
          "model_module": "@jupyter-widgets/controls",
          "model_name": "HTMLModel",
          "model_module_version": "1.5.0",
          "state": {
            "_view_name": "HTMLView",
            "style": "IPY_MODEL_91fc074974984871b147f5b57c83001a",
            "_dom_classes": [],
            "description": "",
            "_model_name": "HTMLModel",
            "placeholder": "​",
            "_view_module": "@jupyter-widgets/controls",
            "_model_module_version": "1.5.0",
            "value": "100%",
            "_view_count": null,
            "_view_module_version": "1.5.0",
            "description_tooltip": null,
            "_model_module": "@jupyter-widgets/controls",
            "layout": "IPY_MODEL_8ecb0824b5c0427b8dce82ad3f21f791"
          }
        },
        "d02ec57f5ae849a98b5629dea5495743": {
          "model_module": "@jupyter-widgets/controls",
          "model_name": "FloatProgressModel",
          "model_module_version": "1.5.0",
          "state": {
            "_view_name": "ProgressView",
            "style": "IPY_MODEL_0c29bbbd651c4fafb7f38c90a1e5b596",
            "_dom_classes": [],
            "description": "",
            "_model_name": "FloatProgressModel",
            "bar_style": "success",
            "max": 10,
            "_view_module": "@jupyter-widgets/controls",
            "_model_module_version": "1.5.0",
            "value": 10,
            "_view_count": null,
            "_view_module_version": "1.5.0",
            "orientation": "horizontal",
            "min": 0,
            "description_tooltip": null,
            "_model_module": "@jupyter-widgets/controls",
            "layout": "IPY_MODEL_80b708a0b6f24bfe9cd6e62008941296"
          }
        },
        "93f969ad49c5437189b761a9af84312d": {
          "model_module": "@jupyter-widgets/controls",
          "model_name": "HTMLModel",
          "model_module_version": "1.5.0",
          "state": {
            "_view_name": "HTMLView",
            "style": "IPY_MODEL_aa56c1d1d14240779603437a99d91b48",
            "_dom_classes": [],
            "description": "",
            "_model_name": "HTMLModel",
            "placeholder": "​",
            "_view_module": "@jupyter-widgets/controls",
            "_model_module_version": "1.5.0",
            "value": " 10/10 [05:59&lt;00:00, 35.44s/it]",
            "_view_count": null,
            "_view_module_version": "1.5.0",
            "description_tooltip": null,
            "_model_module": "@jupyter-widgets/controls",
            "layout": "IPY_MODEL_c7aca5ffecbf44eb9bfb21d4d4d8d216"
          }
        },
        "91fc074974984871b147f5b57c83001a": {
          "model_module": "@jupyter-widgets/controls",
          "model_name": "DescriptionStyleModel",
          "model_module_version": "1.5.0",
          "state": {
            "_view_name": "StyleView",
            "_model_name": "DescriptionStyleModel",
            "description_width": "",
            "_view_module": "@jupyter-widgets/base",
            "_model_module_version": "1.5.0",
            "_view_count": null,
            "_view_module_version": "1.2.0",
            "_model_module": "@jupyter-widgets/controls"
          }
        },
        "8ecb0824b5c0427b8dce82ad3f21f791": {
          "model_module": "@jupyter-widgets/base",
          "model_name": "LayoutModel",
          "model_module_version": "1.2.0",
          "state": {
            "_view_name": "LayoutView",
            "grid_template_rows": null,
            "right": null,
            "justify_content": null,
            "_view_module": "@jupyter-widgets/base",
            "overflow": null,
            "_model_module_version": "1.2.0",
            "_view_count": null,
            "flex_flow": null,
            "width": null,
            "min_width": null,
            "border": null,
            "align_items": null,
            "bottom": null,
            "_model_module": "@jupyter-widgets/base",
            "top": null,
            "grid_column": null,
            "overflow_y": null,
            "overflow_x": null,
            "grid_auto_flow": null,
            "grid_area": null,
            "grid_template_columns": null,
            "flex": null,
            "_model_name": "LayoutModel",
            "justify_items": null,
            "grid_row": null,
            "max_height": null,
            "align_content": null,
            "visibility": null,
            "align_self": null,
            "height": null,
            "min_height": null,
            "padding": null,
            "grid_auto_rows": null,
            "grid_gap": null,
            "max_width": null,
            "order": null,
            "_view_module_version": "1.2.0",
            "grid_template_areas": null,
            "object_position": null,
            "object_fit": null,
            "grid_auto_columns": null,
            "margin": null,
            "display": null,
            "left": null
          }
        },
        "0c29bbbd651c4fafb7f38c90a1e5b596": {
          "model_module": "@jupyter-widgets/controls",
          "model_name": "ProgressStyleModel",
          "model_module_version": "1.5.0",
          "state": {
            "_view_name": "StyleView",
            "_model_name": "ProgressStyleModel",
            "description_width": "",
            "_view_module": "@jupyter-widgets/base",
            "_model_module_version": "1.5.0",
            "_view_count": null,
            "_view_module_version": "1.2.0",
            "bar_color": null,
            "_model_module": "@jupyter-widgets/controls"
          }
        },
        "80b708a0b6f24bfe9cd6e62008941296": {
          "model_module": "@jupyter-widgets/base",
          "model_name": "LayoutModel",
          "model_module_version": "1.2.0",
          "state": {
            "_view_name": "LayoutView",
            "grid_template_rows": null,
            "right": null,
            "justify_content": null,
            "_view_module": "@jupyter-widgets/base",
            "overflow": null,
            "_model_module_version": "1.2.0",
            "_view_count": null,
            "flex_flow": null,
            "width": null,
            "min_width": null,
            "border": null,
            "align_items": null,
            "bottom": null,
            "_model_module": "@jupyter-widgets/base",
            "top": null,
            "grid_column": null,
            "overflow_y": null,
            "overflow_x": null,
            "grid_auto_flow": null,
            "grid_area": null,
            "grid_template_columns": null,
            "flex": null,
            "_model_name": "LayoutModel",
            "justify_items": null,
            "grid_row": null,
            "max_height": null,
            "align_content": null,
            "visibility": null,
            "align_self": null,
            "height": null,
            "min_height": null,
            "padding": null,
            "grid_auto_rows": null,
            "grid_gap": null,
            "max_width": null,
            "order": null,
            "_view_module_version": "1.2.0",
            "grid_template_areas": null,
            "object_position": null,
            "object_fit": null,
            "grid_auto_columns": null,
            "margin": null,
            "display": null,
            "left": null
          }
        },
        "aa56c1d1d14240779603437a99d91b48": {
          "model_module": "@jupyter-widgets/controls",
          "model_name": "DescriptionStyleModel",
          "model_module_version": "1.5.0",
          "state": {
            "_view_name": "StyleView",
            "_model_name": "DescriptionStyleModel",
            "description_width": "",
            "_view_module": "@jupyter-widgets/base",
            "_model_module_version": "1.5.0",
            "_view_count": null,
            "_view_module_version": "1.2.0",
            "_model_module": "@jupyter-widgets/controls"
          }
        },
        "c7aca5ffecbf44eb9bfb21d4d4d8d216": {
          "model_module": "@jupyter-widgets/base",
          "model_name": "LayoutModel",
          "model_module_version": "1.2.0",
          "state": {
            "_view_name": "LayoutView",
            "grid_template_rows": null,
            "right": null,
            "justify_content": null,
            "_view_module": "@jupyter-widgets/base",
            "overflow": null,
            "_model_module_version": "1.2.0",
            "_view_count": null,
            "flex_flow": null,
            "width": null,
            "min_width": null,
            "border": null,
            "align_items": null,
            "bottom": null,
            "_model_module": "@jupyter-widgets/base",
            "top": null,
            "grid_column": null,
            "overflow_y": null,
            "overflow_x": null,
            "grid_auto_flow": null,
            "grid_area": null,
            "grid_template_columns": null,
            "flex": null,
            "_model_name": "LayoutModel",
            "justify_items": null,
            "grid_row": null,
            "max_height": null,
            "align_content": null,
            "visibility": null,
            "align_self": null,
            "height": null,
            "min_height": null,
            "padding": null,
            "grid_auto_rows": null,
            "grid_gap": null,
            "max_width": null,
            "order": null,
            "_view_module_version": "1.2.0",
            "grid_template_areas": null,
            "object_position": null,
            "object_fit": null,
            "grid_auto_columns": null,
            "margin": null,
            "display": null,
            "left": null
          }
        }
      }
    },
    "accelerator": "GPU"
  },
  "cells": [
    {
      "cell_type": "markdown",
      "metadata": {
        "id": "view-in-github",
        "colab_type": "text"
      },
      "source": [
        "<a href=\"https://colab.research.google.com/github/sultanbst123/AnalyticsVidya_HR-Analytics/blob/main/HR_Analytics.ipynb\" target=\"_parent\"><img src=\"https://colab.research.google.com/assets/colab-badge.svg\" alt=\"Open In Colab\"/></a>"
      ]
    },
    {
      "cell_type": "markdown",
      "metadata": {
        "id": "VnZwi-y5xYtN"
      },
      "source": [
        "#Data Modelling with Python"
      ]
    },
    {
      "cell_type": "markdown",
      "metadata": {
        "id": "rsOHPWQKxtzT"
      },
      "source": [
        "##Library & File"
      ]
    },
    {
      "cell_type": "code",
      "metadata": {
        "colab": {
          "base_uri": "https://localhost:8080/"
        },
        "id": "jWz51YuWxc3o",
        "outputId": "2822578e-745a-4e33-fef0-ff93cba5b0dc"
      },
      "source": [
        "\n",
        "!pip install catboost\n",
        "!pip install optuna\n",
        "!pip install borutashap"
      ],
      "execution_count": null,
      "outputs": [
        {
          "output_type": "stream",
          "name": "stdout",
          "text": [
            "Collecting catboost\n",
            "  Downloading catboost-1.0.0-cp37-none-manylinux1_x86_64.whl (76.4 MB)\n",
            "\u001b[K     |████████████████████████████████| 76.4 MB 23 kB/s \n",
            "\u001b[?25hRequirement already satisfied: scipy in /usr/local/lib/python3.7/dist-packages (from catboost) (1.4.1)\n",
            "Requirement already satisfied: pandas>=0.24.0 in /usr/local/lib/python3.7/dist-packages (from catboost) (1.1.5)\n",
            "Requirement already satisfied: graphviz in /usr/local/lib/python3.7/dist-packages (from catboost) (0.10.1)\n",
            "Requirement already satisfied: six in /usr/local/lib/python3.7/dist-packages (from catboost) (1.15.0)\n",
            "Requirement already satisfied: numpy>=1.16.0 in /usr/local/lib/python3.7/dist-packages (from catboost) (1.19.5)\n",
            "Requirement already satisfied: matplotlib in /usr/local/lib/python3.7/dist-packages (from catboost) (3.2.2)\n",
            "Requirement already satisfied: plotly in /usr/local/lib/python3.7/dist-packages (from catboost) (4.4.1)\n",
            "Requirement already satisfied: pytz>=2017.2 in /usr/local/lib/python3.7/dist-packages (from pandas>=0.24.0->catboost) (2018.9)\n",
            "Requirement already satisfied: python-dateutil>=2.7.3 in /usr/local/lib/python3.7/dist-packages (from pandas>=0.24.0->catboost) (2.8.2)\n",
            "Requirement already satisfied: kiwisolver>=1.0.1 in /usr/local/lib/python3.7/dist-packages (from matplotlib->catboost) (1.3.2)\n",
            "Requirement already satisfied: pyparsing!=2.0.4,!=2.1.2,!=2.1.6,>=2.0.1 in /usr/local/lib/python3.7/dist-packages (from matplotlib->catboost) (2.4.7)\n",
            "Requirement already satisfied: cycler>=0.10 in /usr/local/lib/python3.7/dist-packages (from matplotlib->catboost) (0.10.0)\n",
            "Requirement already satisfied: retrying>=1.3.3 in /usr/local/lib/python3.7/dist-packages (from plotly->catboost) (1.3.3)\n",
            "Installing collected packages: catboost\n",
            "Successfully installed catboost-1.0.0\n",
            "Collecting optuna\n",
            "  Downloading optuna-2.10.0-py3-none-any.whl (308 kB)\n",
            "\u001b[K     |████████████████████████████████| 308 kB 5.5 MB/s \n",
            "\u001b[?25hCollecting cliff\n",
            "  Downloading cliff-3.9.0-py3-none-any.whl (80 kB)\n",
            "\u001b[K     |████████████████████████████████| 80 kB 8.5 MB/s \n",
            "\u001b[?25hCollecting cmaes>=0.8.2\n",
            "  Downloading cmaes-0.8.2-py3-none-any.whl (15 kB)\n",
            "Requirement already satisfied: scipy!=1.4.0 in /usr/local/lib/python3.7/dist-packages (from optuna) (1.4.1)\n",
            "Requirement already satisfied: tqdm in /usr/local/lib/python3.7/dist-packages (from optuna) (4.62.3)\n",
            "Collecting colorlog\n",
            "  Downloading colorlog-6.5.0-py2.py3-none-any.whl (11 kB)\n",
            "Requirement already satisfied: PyYAML in /usr/local/lib/python3.7/dist-packages (from optuna) (3.13)\n",
            "Requirement already satisfied: sqlalchemy>=1.1.0 in /usr/local/lib/python3.7/dist-packages (from optuna) (1.4.25)\n",
            "Collecting alembic\n",
            "  Downloading alembic-1.7.4-py3-none-any.whl (209 kB)\n",
            "\u001b[K     |████████████████████████████████| 209 kB 35.6 MB/s \n",
            "\u001b[?25hRequirement already satisfied: packaging>=20.0 in /usr/local/lib/python3.7/dist-packages (from optuna) (21.0)\n",
            "Requirement already satisfied: numpy in /usr/local/lib/python3.7/dist-packages (from optuna) (1.19.5)\n",
            "Requirement already satisfied: pyparsing>=2.0.2 in /usr/local/lib/python3.7/dist-packages (from packaging>=20.0->optuna) (2.4.7)\n",
            "Requirement already satisfied: greenlet!=0.4.17 in /usr/local/lib/python3.7/dist-packages (from sqlalchemy>=1.1.0->optuna) (1.1.2)\n",
            "Requirement already satisfied: importlib-metadata in /usr/local/lib/python3.7/dist-packages (from sqlalchemy>=1.1.0->optuna) (4.8.1)\n",
            "Requirement already satisfied: importlib-resources in /usr/local/lib/python3.7/dist-packages (from alembic->optuna) (5.2.2)\n",
            "Collecting Mako\n",
            "  Downloading Mako-1.1.5-py2.py3-none-any.whl (75 kB)\n",
            "\u001b[K     |████████████████████████████████| 75 kB 4.4 MB/s \n",
            "\u001b[?25hCollecting pbr!=2.1.0,>=2.0.0\n",
            "  Downloading pbr-5.6.0-py2.py3-none-any.whl (111 kB)\n",
            "\u001b[K     |████████████████████████████████| 111 kB 30.2 MB/s \n",
            "\u001b[?25hCollecting cmd2>=1.0.0\n",
            "  Downloading cmd2-2.2.0-py3-none-any.whl (144 kB)\n",
            "\u001b[K     |████████████████████████████████| 144 kB 47.7 MB/s \n",
            "\u001b[?25hRequirement already satisfied: PrettyTable>=0.7.2 in /usr/local/lib/python3.7/dist-packages (from cliff->optuna) (2.2.1)\n",
            "Collecting stevedore>=2.0.1\n",
            "  Downloading stevedore-3.5.0-py3-none-any.whl (49 kB)\n",
            "\u001b[K     |████████████████████████████████| 49 kB 5.8 MB/s \n",
            "\u001b[?25hCollecting autopage>=0.4.0\n",
            "  Downloading autopage-0.4.0-py3-none-any.whl (20 kB)\n",
            "Collecting pyperclip>=1.6\n",
            "  Downloading pyperclip-1.8.2.tar.gz (20 kB)\n",
            "Collecting colorama>=0.3.7\n",
            "  Downloading colorama-0.4.4-py2.py3-none-any.whl (16 kB)\n",
            "Requirement already satisfied: typing-extensions in /usr/local/lib/python3.7/dist-packages (from cmd2>=1.0.0->cliff->optuna) (3.7.4.3)\n",
            "Requirement already satisfied: wcwidth>=0.1.7 in /usr/local/lib/python3.7/dist-packages (from cmd2>=1.0.0->cliff->optuna) (0.2.5)\n",
            "Requirement already satisfied: attrs>=16.3.0 in /usr/local/lib/python3.7/dist-packages (from cmd2>=1.0.0->cliff->optuna) (21.2.0)\n",
            "Requirement already satisfied: zipp>=0.5 in /usr/local/lib/python3.7/dist-packages (from importlib-metadata->sqlalchemy>=1.1.0->optuna) (3.6.0)\n",
            "Requirement already satisfied: MarkupSafe>=0.9.2 in /usr/local/lib/python3.7/dist-packages (from Mako->alembic->optuna) (2.0.1)\n",
            "Building wheels for collected packages: pyperclip\n",
            "  Building wheel for pyperclip (setup.py) ... \u001b[?25l\u001b[?25hdone\n",
            "  Created wheel for pyperclip: filename=pyperclip-1.8.2-py3-none-any.whl size=11136 sha256=41c22142f7d6db3739e965540d80a4692cc03b907a15bf9b474fb1ffe7a71179\n",
            "  Stored in directory: /root/.cache/pip/wheels/9f/18/84/8f69f8b08169c7bae2dde6bd7daf0c19fca8c8e500ee620a28\n",
            "Successfully built pyperclip\n",
            "Installing collected packages: pyperclip, pbr, colorama, stevedore, Mako, cmd2, autopage, colorlog, cmaes, cliff, alembic, optuna\n",
            "Successfully installed Mako-1.1.5 alembic-1.7.4 autopage-0.4.0 cliff-3.9.0 cmaes-0.8.2 cmd2-2.2.0 colorama-0.4.4 colorlog-6.5.0 optuna-2.10.0 pbr-5.6.0 pyperclip-1.8.2 stevedore-3.5.0\n",
            "Collecting borutashap\n",
            "  Downloading BorutaShap-1.0.16-py3-none-any.whl (13 kB)\n",
            "Requirement already satisfied: seaborn in /usr/local/lib/python3.7/dist-packages (from borutashap) (0.11.2)\n",
            "Requirement already satisfied: tqdm in /usr/local/lib/python3.7/dist-packages (from borutashap) (4.62.3)\n",
            "Requirement already satisfied: matplotlib in /usr/local/lib/python3.7/dist-packages (from borutashap) (3.2.2)\n",
            "Requirement already satisfied: statsmodels in /usr/local/lib/python3.7/dist-packages (from borutashap) (0.10.2)\n",
            "Requirement already satisfied: scikit-learn in /usr/local/lib/python3.7/dist-packages (from borutashap) (0.22.2.post1)\n",
            "Requirement already satisfied: pandas in /usr/local/lib/python3.7/dist-packages (from borutashap) (1.1.5)\n",
            "Collecting shap>=0.34.0\n",
            "  Downloading shap-0.40.0.tar.gz (371 kB)\n",
            "\u001b[K     |████████████████████████████████| 371 kB 5.3 MB/s \n",
            "\u001b[?25h  Installing build dependencies ... \u001b[?25l\u001b[?25hdone\n",
            "  Getting requirements to build wheel ... \u001b[?25l\u001b[?25hdone\n",
            "    Preparing wheel metadata ... \u001b[?25l\u001b[?25hdone\n",
            "Requirement already satisfied: scipy in /usr/local/lib/python3.7/dist-packages (from borutashap) (1.4.1)\n",
            "Requirement already satisfied: numpy in /usr/local/lib/python3.7/dist-packages (from borutashap) (1.19.5)\n",
            "Collecting slicer==0.0.7\n",
            "  Downloading slicer-0.0.7-py3-none-any.whl (14 kB)\n",
            "Requirement already satisfied: cloudpickle in /usr/local/lib/python3.7/dist-packages (from shap>=0.34.0->borutashap) (1.3.0)\n",
            "Requirement already satisfied: packaging>20.9 in /usr/local/lib/python3.7/dist-packages (from shap>=0.34.0->borutashap) (21.0)\n",
            "Requirement already satisfied: numba in /usr/local/lib/python3.7/dist-packages (from shap>=0.34.0->borutashap) (0.51.2)\n",
            "Requirement already satisfied: pyparsing>=2.0.2 in /usr/local/lib/python3.7/dist-packages (from packaging>20.9->shap>=0.34.0->borutashap) (2.4.7)\n",
            "Requirement already satisfied: cycler>=0.10 in /usr/local/lib/python3.7/dist-packages (from matplotlib->borutashap) (0.10.0)\n",
            "Requirement already satisfied: python-dateutil>=2.1 in /usr/local/lib/python3.7/dist-packages (from matplotlib->borutashap) (2.8.2)\n",
            "Requirement already satisfied: kiwisolver>=1.0.1 in /usr/local/lib/python3.7/dist-packages (from matplotlib->borutashap) (1.3.2)\n",
            "Requirement already satisfied: six in /usr/local/lib/python3.7/dist-packages (from cycler>=0.10->matplotlib->borutashap) (1.15.0)\n",
            "Requirement already satisfied: llvmlite<0.35,>=0.34.0.dev0 in /usr/local/lib/python3.7/dist-packages (from numba->shap>=0.34.0->borutashap) (0.34.0)\n",
            "Requirement already satisfied: setuptools in /usr/local/lib/python3.7/dist-packages (from numba->shap>=0.34.0->borutashap) (57.4.0)\n",
            "Requirement already satisfied: pytz>=2017.2 in /usr/local/lib/python3.7/dist-packages (from pandas->borutashap) (2018.9)\n",
            "Requirement already satisfied: joblib>=0.11 in /usr/local/lib/python3.7/dist-packages (from scikit-learn->borutashap) (1.0.1)\n",
            "Requirement already satisfied: patsy>=0.4.0 in /usr/local/lib/python3.7/dist-packages (from statsmodels->borutashap) (0.5.2)\n",
            "Building wheels for collected packages: shap\n",
            "  Building wheel for shap (PEP 517) ... \u001b[?25l\u001b[?25hdone\n",
            "  Created wheel for shap: filename=shap-0.40.0-cp37-cp37m-linux_x86_64.whl size=509238 sha256=c1abf142aa0798cd1646c7f58247680ebe1e40d16ee39d13ab51036b8677cfd5\n",
            "  Stored in directory: /root/.cache/pip/wheels/ec/35/84/e304841ac4b910bc95fe9a6e5302eb2507b4333728851dcbfb\n",
            "Successfully built shap\n",
            "Installing collected packages: slicer, shap, borutashap\n",
            "Successfully installed borutashap-1.0.16 shap-0.40.0 slicer-0.0.7\n"
          ]
        }
      ]
    },
    {
      "cell_type": "code",
      "metadata": {
        "colab": {
          "base_uri": "https://localhost:8080/"
        },
        "id": "OXoDbsOvxiuS",
        "outputId": "0946138a-ea98-437f-be73-69d28cc05583"
      },
      "source": [
        "!pip install --upgrade scikit-learn"
      ],
      "execution_count": null,
      "outputs": [
        {
          "output_type": "stream",
          "name": "stdout",
          "text": [
            "Requirement already satisfied: scikit-learn in /usr/local/lib/python3.7/dist-packages (0.22.2.post1)\n",
            "Collecting scikit-learn\n",
            "  Downloading scikit_learn-1.0.1-cp37-cp37m-manylinux_2_12_x86_64.manylinux2010_x86_64.whl (23.2 MB)\n",
            "\u001b[K     |████████████████████████████████| 23.2 MB 1.7 MB/s \n",
            "\u001b[?25hRequirement already satisfied: numpy>=1.14.6 in /usr/local/lib/python3.7/dist-packages (from scikit-learn) (1.19.5)\n",
            "Collecting threadpoolctl>=2.0.0\n",
            "  Downloading threadpoolctl-3.0.0-py3-none-any.whl (14 kB)\n",
            "Requirement already satisfied: scipy>=1.1.0 in /usr/local/lib/python3.7/dist-packages (from scikit-learn) (1.4.1)\n",
            "Requirement already satisfied: joblib>=0.11 in /usr/local/lib/python3.7/dist-packages (from scikit-learn) (1.0.1)\n",
            "Installing collected packages: threadpoolctl, scikit-learn\n",
            "  Attempting uninstall: scikit-learn\n",
            "    Found existing installation: scikit-learn 0.22.2.post1\n",
            "    Uninstalling scikit-learn-0.22.2.post1:\n",
            "      Successfully uninstalled scikit-learn-0.22.2.post1\n",
            "Successfully installed scikit-learn-1.0.1 threadpoolctl-3.0.0\n"
          ]
        }
      ]
    },
    {
      "cell_type": "code",
      "metadata": {
        "id": "Xng1j31oxrwV"
      },
      "source": [
        "import pandas as pd\n",
        "import numpy as np\n",
        "import matplotlib.pyplot as plt\n",
        "import seaborn as sns\n",
        "import optuna\n",
        "from BorutaShap import BorutaShap\n",
        " \n",
        "# classification\n",
        "import xgboost, lightgbm, catboost\n",
        "from xgboost import XGBClassifier\n",
        "from catboost import CatBoostClassifier\n",
        "from lightgbm import LGBMClassifier\n",
        "from sklearn.tree import DecisionTreeClassifier, ExtraTreeClassifier\n",
        "from sklearn.ensemble import (RandomForestClassifier, StackingClassifier, GradientBoostingClassifier,\n",
        "                             AdaBoostClassifier, HistGradientBoostingClassifier) \n",
        "from sklearn.svm import SVC\n",
        "from sklearn.linear_model import LogisticRegression, SGDClassifier\n",
        "from sklearn.neighbors import KNeighborsClassifier\n",
        " \n",
        "# regression\n",
        "from xgboost import XGBRegressor\n",
        "from catboost import CatBoostRegressor\n",
        "from lightgbm import LGBMRegressor\n",
        "from sklearn.tree import DecisionTreeRegressor, ExtraTreeRegressor\n",
        "from sklearn.ensemble import (RandomForestRegressor, GradientBoostingRegressor,\n",
        "                             AdaBoostRegressor, HistGradientBoostingRegressor) \n",
        "from sklearn.svm import SVR\n",
        "from sklearn.linear_model import LinearRegression, Ridge, Lasso, ElasticNet, SGDOneClassSVM\n",
        "from sklearn.neighbors import KNeighborsRegressor\n",
        "\n",
        "#preprocessing\n",
        "from sklearn.model_selection import train_test_split, KFold, cross_val_score, StratifiedKFold, GridSearchCV\n",
        "from sklearn.metrics import (accuracy_score, classification_report, confusion_matrix,f1_score, \n",
        "                            log_loss, roc_auc_score, plot_roc_curve,plot_confusion_matrix) \n",
        "from sklearn.metrics import mean_absolute_error, mean_squared_error, mean_squared_log_error\n",
        "from sklearn.preprocessing import LabelEncoder,OneHotEncoder, StandardScaler, MinMaxScaler, RobustScaler\n",
        "from sklearn.calibration import CalibrationDisplay\n",
        "\n",
        "\n",
        "import warnings\n",
        "warnings.filterwarnings(\"ignore\")\n",
        " \n",
        "%matplotlib inline"
      ],
      "execution_count": null,
      "outputs": []
    },
    {
      "cell_type": "code",
      "metadata": {
        "id": "Q8pu0-AJx6C_",
        "colab": {
          "base_uri": "https://localhost:8080/"
        },
        "outputId": "1e8e61b7-e748-4cdb-a58d-242556c05c28"
      },
      "source": [
        "from google.colab import drive\n",
        "drive.mount('/content/drive')"
      ],
      "execution_count": null,
      "outputs": [
        {
          "output_type": "stream",
          "name": "stdout",
          "text": [
            "Mounted at /content/drive\n"
          ]
        }
      ]
    },
    {
      "cell_type": "code",
      "metadata": {
        "id": "rZV_DA53x4n8"
      },
      "source": [
        "train = pd.read_csv(\"/content/drive/MyDrive/Hr analytics/train_HR_analytics(clean).csv\")\n",
        "test = pd.read_csv(\"/content/drive/MyDrive/Hr analytics/test_HR_analytics(clean).csv\")"
      ],
      "execution_count": null,
      "outputs": []
    },
    {
      "cell_type": "code",
      "metadata": {
        "colab": {
          "base_uri": "https://localhost:8080/"
        },
        "id": "92GJBcoAllQF",
        "outputId": "0a56b895-93e6-4bfb-92f5-3ed5e34578e6"
      },
      "source": [
        "train.info()"
      ],
      "execution_count": null,
      "outputs": [
        {
          "output_type": "stream",
          "name": "stdout",
          "text": [
            "<class 'pandas.core.frame.DataFrame'>\n",
            "RangeIndex: 54808 entries, 0 to 54807\n",
            "Data columns (total 14 columns):\n",
            " #   Column                Non-Null Count  Dtype  \n",
            "---  ------                --------------  -----  \n",
            " 0   department            54808 non-null  object \n",
            " 1   education             54808 non-null  object \n",
            " 2   gender                54808 non-null  object \n",
            " 3   recruitment_channel   54808 non-null  object \n",
            " 4   no_of_trainings       54808 non-null  int64  \n",
            " 5   age                   54808 non-null  int64  \n",
            " 6   previous_year_rating  54808 non-null  int64  \n",
            " 7   length_of_service     54808 non-null  int64  \n",
            " 8   KPIs_met >80%         54808 non-null  int64  \n",
            " 9   awards_won?           54808 non-null  int64  \n",
            " 10  avg_training_score    54808 non-null  int64  \n",
            " 11  is_promoted           54808 non-null  int64  \n",
            " 12  new_region            54808 non-null  object \n",
            " 13  new                   54808 non-null  float64\n",
            "dtypes: float64(1), int64(8), object(5)\n",
            "memory usage: 5.9+ MB\n"
          ]
        }
      ]
    },
    {
      "cell_type": "code",
      "metadata": {
        "colab": {
          "base_uri": "https://localhost:8080/"
        },
        "id": "_TQtDcdSzKBo",
        "outputId": "9e99c128-f3a0-4628-a814-ac0f4730a41e"
      },
      "source": [
        "train.info()"
      ],
      "execution_count": null,
      "outputs": [
        {
          "output_type": "stream",
          "name": "stdout",
          "text": [
            "<class 'pandas.core.frame.DataFrame'>\n",
            "RangeIndex: 54808 entries, 0 to 54807\n",
            "Data columns (total 14 columns):\n",
            " #   Column                Non-Null Count  Dtype  \n",
            "---  ------                --------------  -----  \n",
            " 0   department            54808 non-null  object \n",
            " 1   education             54808 non-null  object \n",
            " 2   gender                54808 non-null  object \n",
            " 3   recruitment_channel   54808 non-null  object \n",
            " 4   no_of_trainings       54808 non-null  int64  \n",
            " 5   age                   54808 non-null  int64  \n",
            " 6   previous_year_rating  54808 non-null  int64  \n",
            " 7   length_of_service     54808 non-null  int64  \n",
            " 8   KPIs_met >80%         54808 non-null  int64  \n",
            " 9   awards_won?           54808 non-null  int64  \n",
            " 10  avg_training_score    54808 non-null  int64  \n",
            " 11  is_promoted           54808 non-null  int64  \n",
            " 12  new_region            54808 non-null  object \n",
            " 13  new                   54808 non-null  float64\n",
            "dtypes: float64(1), int64(8), object(5)\n",
            "memory usage: 5.9+ MB\n"
          ]
        }
      ]
    },
    {
      "cell_type": "code",
      "metadata": {
        "id": "QSSqRe8UzP4B"
      },
      "source": [
        ""
      ],
      "execution_count": null,
      "outputs": []
    },
    {
      "cell_type": "markdown",
      "metadata": {
        "id": "xnXi9cijzT77"
      },
      "source": [
        "## Split"
      ]
    },
    {
      "cell_type": "code",
      "metadata": {
        "id": "pbuTw2kjzbMR"
      },
      "source": [
        "cater = train.select_dtypes(exclude=\"number\").columns"
      ],
      "execution_count": null,
      "outputs": []
    },
    {
      "cell_type": "code",
      "metadata": {
        "id": "_v8o4Sz0zViD"
      },
      "source": [
        "# ubah ke category\n",
        "\n",
        "for i in [train, test]: \n",
        "    i[cater] = i[cater].astype(\"category\")"
      ],
      "execution_count": null,
      "outputs": []
    },
    {
      "cell_type": "code",
      "metadata": {
        "id": "EJooO_36zw3Q"
      },
      "source": [
        "\n",
        "tester = test \n",
        "\n",
        "x = train.drop(\"is_promoted\", axis=1)\n",
        "y = train.is_promoted"
      ],
      "execution_count": null,
      "outputs": []
    },
    {
      "cell_type": "code",
      "metadata": {
        "id": "sMA7NrFiz5z4"
      },
      "source": [
        "x_train,x_val,y_train,y_val = train_test_split(x, y, test_size = 0.2,random_state=29,stratify=y)"
      ],
      "execution_count": null,
      "outputs": []
    },
    {
      "cell_type": "code",
      "metadata": {
        "colab": {
          "base_uri": "https://localhost:8080/",
          "height": 292
        },
        "id": "0tjARocG0FpY",
        "outputId": "b4bd1bcf-4285-4e28-9d72-e3f6baf083f5"
      },
      "source": [
        "x_train.head()"
      ],
      "execution_count": null,
      "outputs": [
        {
          "output_type": "execute_result",
          "data": {
            "text/html": [
              "<div>\n",
              "<style scoped>\n",
              "    .dataframe tbody tr th:only-of-type {\n",
              "        vertical-align: middle;\n",
              "    }\n",
              "\n",
              "    .dataframe tbody tr th {\n",
              "        vertical-align: top;\n",
              "    }\n",
              "\n",
              "    .dataframe thead th {\n",
              "        text-align: right;\n",
              "    }\n",
              "</style>\n",
              "<table border=\"1\" class=\"dataframe\">\n",
              "  <thead>\n",
              "    <tr style=\"text-align: right;\">\n",
              "      <th></th>\n",
              "      <th>department</th>\n",
              "      <th>education</th>\n",
              "      <th>gender</th>\n",
              "      <th>recruitment_channel</th>\n",
              "      <th>no_of_trainings</th>\n",
              "      <th>age</th>\n",
              "      <th>previous_year_rating</th>\n",
              "      <th>length_of_service</th>\n",
              "      <th>KPIs_met &gt;80%</th>\n",
              "      <th>awards_won?</th>\n",
              "      <th>avg_training_score</th>\n",
              "      <th>new_region</th>\n",
              "      <th>new</th>\n",
              "    </tr>\n",
              "  </thead>\n",
              "  <tbody>\n",
              "    <tr>\n",
              "      <th>2918</th>\n",
              "      <td>Operations</td>\n",
              "      <td>Bachelor's</td>\n",
              "      <td>f</td>\n",
              "      <td>other</td>\n",
              "      <td>2</td>\n",
              "      <td>26</td>\n",
              "      <td>4</td>\n",
              "      <td>1</td>\n",
              "      <td>1</td>\n",
              "      <td>1</td>\n",
              "      <td>61</td>\n",
              "      <td>region[10-20]</td>\n",
              "      <td>60.153233</td>\n",
              "    </tr>\n",
              "    <tr>\n",
              "      <th>16861</th>\n",
              "      <td>Technology</td>\n",
              "      <td>Master's &amp; above</td>\n",
              "      <td>m</td>\n",
              "      <td>other</td>\n",
              "      <td>1</td>\n",
              "      <td>45</td>\n",
              "      <td>4</td>\n",
              "      <td>5</td>\n",
              "      <td>1</td>\n",
              "      <td>0</td>\n",
              "      <td>82</td>\n",
              "      <td>region[1-10]</td>\n",
              "      <td>79.747041</td>\n",
              "    </tr>\n",
              "    <tr>\n",
              "      <th>41307</th>\n",
              "      <td>Finance</td>\n",
              "      <td>Bachelor's</td>\n",
              "      <td>f</td>\n",
              "      <td>other</td>\n",
              "      <td>1</td>\n",
              "      <td>27</td>\n",
              "      <td>4</td>\n",
              "      <td>1</td>\n",
              "      <td>1</td>\n",
              "      <td>0</td>\n",
              "      <td>56</td>\n",
              "      <td>region[1-10]</td>\n",
              "      <td>60.178368</td>\n",
              "    </tr>\n",
              "    <tr>\n",
              "      <th>38867</th>\n",
              "      <td>Sales &amp; Marketing</td>\n",
              "      <td>Bachelor's</td>\n",
              "      <td>f</td>\n",
              "      <td>sourcing</td>\n",
              "      <td>1</td>\n",
              "      <td>31</td>\n",
              "      <td>4</td>\n",
              "      <td>5</td>\n",
              "      <td>0</td>\n",
              "      <td>0</td>\n",
              "      <td>46</td>\n",
              "      <td>region[1-10]</td>\n",
              "      <td>49.979904</td>\n",
              "    </tr>\n",
              "    <tr>\n",
              "      <th>54107</th>\n",
              "      <td>Sales &amp; Marketing</td>\n",
              "      <td>Master's &amp; above</td>\n",
              "      <td>m</td>\n",
              "      <td>other</td>\n",
              "      <td>2</td>\n",
              "      <td>34</td>\n",
              "      <td>3</td>\n",
              "      <td>7</td>\n",
              "      <td>1</td>\n",
              "      <td>0</td>\n",
              "      <td>47</td>\n",
              "      <td>region[20-34]</td>\n",
              "      <td>50.410785</td>\n",
              "    </tr>\n",
              "  </tbody>\n",
              "</table>\n",
              "</div>"
            ],
            "text/plain": [
              "              department         education  ...     new_region        new\n",
              "2918          Operations        Bachelor's  ...  region[10-20]  60.153233\n",
              "16861         Technology  Master's & above  ...   region[1-10]  79.747041\n",
              "41307            Finance        Bachelor's  ...   region[1-10]  60.178368\n",
              "38867  Sales & Marketing        Bachelor's  ...   region[1-10]  49.979904\n",
              "54107  Sales & Marketing  Master's & above  ...  region[20-34]  50.410785\n",
              "\n",
              "[5 rows x 13 columns]"
            ]
          },
          "metadata": {},
          "execution_count": 13
        }
      ]
    },
    {
      "cell_type": "code",
      "metadata": {
        "id": "MxZkRyHi0KEk"
      },
      "source": [
        ""
      ],
      "execution_count": null,
      "outputs": []
    },
    {
      "cell_type": "markdown",
      "metadata": {
        "id": "Uhu4zkyn0KhV"
      },
      "source": [
        "## Feature-selection"
      ]
    },
    {
      "cell_type": "code",
      "metadata": {
        "id": "dzApAWoY0NKo"
      },
      "source": [
        "lg = LGBMClassifier(random_state=92)"
      ],
      "execution_count": null,
      "outputs": []
    },
    {
      "cell_type": "code",
      "metadata": {
        "colab": {
          "base_uri": "https://localhost:8080/"
        },
        "id": "FtK5sUT80R59",
        "outputId": "e999c0b9-810c-44ba-d938-a686b3b1f1a7"
      },
      "source": [
        "lg.fit(x_train, y_train)"
      ],
      "execution_count": null,
      "outputs": [
        {
          "output_type": "execute_result",
          "data": {
            "text/plain": [
              "LGBMClassifier(random_state=92)"
            ]
          },
          "metadata": {},
          "execution_count": 40
        }
      ]
    },
    {
      "cell_type": "code",
      "metadata": {
        "colab": {
          "base_uri": "https://localhost:8080/"
        },
        "id": "39w4IXIe0Wx4",
        "outputId": "a02a4bdf-bae0-40e6-8495-7c931d7ae4b9"
      },
      "source": [
        "print(f\"accuracy train: {lg.score(x_train, y_train)}\")\n",
        "print(f\"accuracy val: {lg.score(x_val, y_val)}\")"
      ],
      "execution_count": null,
      "outputs": [
        {
          "output_type": "stream",
          "name": "stdout",
          "text": [
            "accuracy train: 0.9454682297130867\n",
            "accuracy val: 0.9419813902572524\n"
          ]
        }
      ]
    },
    {
      "cell_type": "code",
      "metadata": {
        "id": "HiIHqlDD0egD"
      },
      "source": [
        "pred = lg.predict(x_val)"
      ],
      "execution_count": null,
      "outputs": []
    },
    {
      "cell_type": "code",
      "metadata": {
        "colab": {
          "base_uri": "https://localhost:8080/"
        },
        "id": "J05C0ndT00fV",
        "outputId": "73e19d6a-c91e-47e3-bdf0-04c21fa86739"
      },
      "source": [
        "f1_score(y_val, pred)"
      ],
      "execution_count": null,
      "outputs": [
        {
          "output_type": "execute_result",
          "data": {
            "text/plain": [
              "0.5015673981191222"
            ]
          },
          "metadata": {},
          "execution_count": 43
        }
      ]
    },
    {
      "cell_type": "code",
      "metadata": {
        "colab": {
          "base_uri": "https://localhost:8080/",
          "height": 238
        },
        "id": "NNot8FM6lpmr",
        "outputId": "51c108da-e09b-4bc7-9b24-ed69d7d07b1a"
      },
      "source": [
        "plot_roc_curve(lg,x_val, y_val)"
      ],
      "execution_count": null,
      "outputs": [
        {
          "output_type": "execute_result",
          "data": {
            "text/plain": [
              "<sklearn.metrics._plot.roc_curve.RocCurveDisplay at 0x7f31aa2bfed0>"
            ]
          },
          "metadata": {},
          "execution_count": 44
        },
        {
          "output_type": "display_data",
          "data": {
            "image/png": "[encoded data removed]",
            "text/plain": [
              "<Figure size 432x288 with 1 Axes>"
            ]
          },
          "metadata": {
            "needs_background": "light"
          }
        }
      ]
    },
    {
      "cell_type": "code",
      "metadata": {
        "colab": {
          "base_uri": "https://localhost:8080/",
          "height": 276
        },
        "id": "QMmUzUTL1iEq",
        "outputId": "515c1679-9698-4902-9435-6db088fa36a7"
      },
      "source": [
        "plot_confusion_matrix(lg, x_val, y_val)"
      ],
      "execution_count": null,
      "outputs": [
        {
          "output_type": "execute_result",
          "data": {
            "text/plain": [
              "<sklearn.metrics._plot.confusion_matrix.ConfusionMatrixDisplay at 0x7f31a8f91750>"
            ]
          },
          "metadata": {},
          "execution_count": 45
        },
        {
          "output_type": "display_data",
          "data": {
            "image/png": "[encoded data removed]",
            "text/plain": [
              "<Figure size 432x288 with 2 Axes>"
            ]
          },
          "metadata": {
            "needs_background": "light"
          }
        }
      ]
    },
    {
      "cell_type": "code",
      "metadata": {
        "id": "ITzrZYtGiZbY"
      },
      "source": [
        "fs = BorutaShap(model=lg,\n",
        "                importance_measure=\"shap\",\n",
        "                classification = True)"
      ],
      "execution_count": null,
      "outputs": []
    },
    {
      "cell_type": "code",
      "metadata": {
        "colab": {
          "base_uri": "https://localhost:8080/",
          "height": 176,
          "referenced_widgets": [
            "f49ff8d350c0474090b68066dd5f2d69",
            "c0d93aae00d8417e87b2fc3ef01c65ec",
            "fe3b4baeea5e40cab5f729000da0cfd9",
            "d02ec57f5ae849a98b5629dea5495743",
            "93f969ad49c5437189b761a9af84312d",
            "91fc074974984871b147f5b57c83001a",
            "8ecb0824b5c0427b8dce82ad3f21f791",
            "0c29bbbd651c4fafb7f38c90a1e5b596",
            "80b708a0b6f24bfe9cd6e62008941296",
            "aa56c1d1d14240779603437a99d91b48",
            "c7aca5ffecbf44eb9bfb21d4d4d8d216"
          ]
        },
        "id": "FYfZlnCCigtf",
        "outputId": "62c25423-611b-4e00-8e04-6ac73be84b66"
      },
      "source": [
        "fs.fit(X=x_train, y=y_train, n_trials=10,random_state=0)"
      ],
      "execution_count": null,
      "outputs": [
        {
          "output_type": "display_data",
          "data": {
            "application/vnd.jupyter.widget-view+json": {
              "model_id": "f49ff8d350c0474090b68066dd5f2d69",
              "version_minor": 0,
              "version_major": 2
            },
            "text/plain": [
              "  0%|          | 0/10 [00:00<?, ?it/s]"
            ]
          },
          "metadata": {}
        },
        {
          "output_type": "stream",
          "name": "stdout",
          "text": [
            "8 attributes confirmed important: ['department', 'age', 'KPIs_met >80%', 'previous_year_rating', 'length_of_service', 'avg_training_score', 'new', 'awards_won?']\n",
            "4 attributes confirmed unimportant: ['no_of_trainings', 'education', 'recruitment_channel', 'gender']\n",
            "1 tentative attributes remains: ['new_region']\n"
          ]
        }
      ]
    },
    {
      "cell_type": "code",
      "metadata": {
        "colab": {
          "base_uri": "https://localhost:8080/",
          "height": 169
        },
        "id": "CsW8FQqQk0sn",
        "outputId": "67ea9854-7737-4b3d-9e38-ea6bd9569a95"
      },
      "source": [
        "fs.plot(which_features='all', figsize=(24,12))"
      ],
      "execution_count": null,
      "outputs": [
        {
          "output_type": "display_data",
          "data": {
            "image/png": "[encoded data removed]",
            "text/plain": [
              "<Figure size 1728x864 with 1 Axes>"
            ]
          },
          "metadata": {
            "needs_background": "light"
          }
        }
      ]
    },
    {
      "cell_type": "code",
      "metadata": {
        "id": "RjVA4cDfjDiq"
      },
      "source": [
        "col = fs.Subset().columns.to_list()"
      ],
      "execution_count": null,
      "outputs": []
    },
    {
      "cell_type": "code",
      "metadata": {
        "colab": {
          "base_uri": "https://localhost:8080/"
        },
        "id": "4qk1xAtci7dK",
        "outputId": "c0e8d962-7b17-40c7-9f42-c5fe8887418b"
      },
      "source": [
        "col"
      ],
      "execution_count": null,
      "outputs": [
        {
          "output_type": "execute_result",
          "data": {
            "text/plain": [
              "['department',\n",
              " 'age',\n",
              " 'KPIs_met >80%',\n",
              " 'previous_year_rating',\n",
              " 'length_of_service',\n",
              " 'avg_training_score',\n",
              " 'new',\n",
              " 'awards_won?']"
            ]
          },
          "metadata": {},
          "execution_count": 32
        }
      ]
    },
    {
      "cell_type": "code",
      "metadata": {
        "colab": {
          "base_uri": "https://localhost:8080/"
        },
        "id": "umxugwpIlBuX",
        "outputId": "3141f875-33ff-4c73-df52-8e0ff8303e73"
      },
      "source": [
        "# coba lagi \n",
        "lg.fit(x_train[col], y_train)"
      ],
      "execution_count": null,
      "outputs": [
        {
          "output_type": "execute_result",
          "data": {
            "text/plain": [
              "LGBMClassifier(random_state=92)"
            ]
          },
          "metadata": {},
          "execution_count": 46
        }
      ]
    },
    {
      "cell_type": "code",
      "metadata": {
        "colab": {
          "base_uri": "https://localhost:8080/"
        },
        "id": "NFyz8Z_KlKYp",
        "outputId": "baa5ce99-fe03-43cb-ca1a-90a4fea7e8c4"
      },
      "source": [
        "print(f\"accuracy train: {lg.score(x_train[col], y_train)}\")\n",
        "print(f\"accuracy val: {lg.score(x_val[col], y_val)}\")"
      ],
      "execution_count": null,
      "outputs": [
        {
          "output_type": "stream",
          "name": "stdout",
          "text": [
            "accuracy train: 0.9454910368106555\n",
            "accuracy val: 0.9421638387155629\n"
          ]
        }
      ]
    },
    {
      "cell_type": "code",
      "metadata": {
        "id": "rGCLmUpwlSMe"
      },
      "source": [
        "pred = lg.predict(x_val[col])"
      ],
      "execution_count": null,
      "outputs": []
    },
    {
      "cell_type": "code",
      "metadata": {
        "colab": {
          "base_uri": "https://localhost:8080/"
        },
        "id": "i6n73OyUlWdC",
        "outputId": "91228f70-523d-4624-97ad-c1523cbf7d89"
      },
      "source": [
        "f1_score(y_val, pred)"
      ],
      "execution_count": null,
      "outputs": [
        {
          "output_type": "execute_result",
          "data": {
            "text/plain": [
              "0.5031347962382445"
            ]
          },
          "metadata": {},
          "execution_count": 49
        }
      ]
    },
    {
      "cell_type": "code",
      "metadata": {
        "colab": {
          "base_uri": "https://localhost:8080/",
          "height": 238
        },
        "id": "ylPnSizalapD",
        "outputId": "474cb4ec-80ed-4f39-d55f-6b20ec053c58"
      },
      "source": [
        "plot_roc_curve(lg,x_val[col], y_val)"
      ],
      "execution_count": null,
      "outputs": [
        {
          "output_type": "execute_result",
          "data": {
            "text/plain": [
              "<sklearn.metrics._plot.roc_curve.RocCurveDisplay at 0x7f31a8ef35d0>"
            ]
          },
          "metadata": {},
          "execution_count": 50
        },
        {
          "output_type": "display_data",
          "data": {
            "image/png": "[encoded data removed]",
            "text/plain": [
              "<Figure size 432x288 with 1 Axes>"
            ]
          },
          "metadata": {
            "needs_background": "light"
          }
        }
      ]
    },
    {
      "cell_type": "code",
      "metadata": {
        "colab": {
          "base_uri": "https://localhost:8080/",
          "height": 320
        },
        "id": "-FGnIjMLlygo",
        "outputId": "8a2392b0-89fd-4113-f077-b7ad3f43bef9"
      },
      "source": [
        "plot_confusion_matrix(lg, x_val[col], y_val)"
      ],
      "execution_count": null,
      "outputs": [
        {
          "output_type": "execute_result",
          "data": {
            "text/plain": [
              "<sklearn.metrics._plot.confusion_matrix.ConfusionMatrixDisplay at 0x7f31a8ef3690>"
            ]
          },
          "metadata": {},
          "execution_count": 51
        },
        {
          "output_type": "display_data",
          "data": {
            "image/png": "[encoded data removed]",
            "text/plain": [
              "<Figure size 432x288 with 2 Axes>"
            ]
          },
          "metadata": {
            "needs_background": "light"
          }
        }
      ]
    },
    {
      "cell_type": "markdown",
      "metadata": {
        "id": "xxafRtxOl8rW"
      },
      "source": [
        "## Model-1"
      ]
    },
    {
      "cell_type": "code",
      "metadata": {
        "id": "xGAbptD8mDtI"
      },
      "source": [
        "f1 = []\n",
        "acc_train = []\n",
        "acc_val = []"
      ],
      "execution_count": null,
      "outputs": []
    },
    {
      "cell_type": "code",
      "metadata": {
        "id": "iMIW9hExmRmP"
      },
      "source": [
        "x_train_1 = x_train[col]\n",
        "x_val_1 = x_val[col]"
      ],
      "execution_count": null,
      "outputs": []
    },
    {
      "cell_type": "code",
      "metadata": {
        "colab": {
          "base_uri": "https://localhost:8080/"
        },
        "id": "Xcu0DeT7mY6v",
        "outputId": "af294d2b-4d5d-4d4c-edbd-d90b06e2c912"
      },
      "source": [
        "x_train_1.head()"
      ],
      "execution_count": null,
      "outputs": [
        {
          "output_type": "execute_result",
          "data": {
            "text/html": [
              "<div>\n",
              "<style scoped>\n",
              "    .dataframe tbody tr th:only-of-type {\n",
              "        vertical-align: middle;\n",
              "    }\n",
              "\n",
              "    .dataframe tbody tr th {\n",
              "        vertical-align: top;\n",
              "    }\n",
              "\n",
              "    .dataframe thead th {\n",
              "        text-align: right;\n",
              "    }\n",
              "</style>\n",
              "<table border=\"1\" class=\"dataframe\">\n",
              "  <thead>\n",
              "    <tr style=\"text-align: right;\">\n",
              "      <th></th>\n",
              "      <th>department</th>\n",
              "      <th>age</th>\n",
              "      <th>KPIs_met &gt;80%</th>\n",
              "      <th>previous_year_rating</th>\n",
              "      <th>length_of_service</th>\n",
              "      <th>avg_training_score</th>\n",
              "      <th>new</th>\n",
              "      <th>awards_won?</th>\n",
              "    </tr>\n",
              "  </thead>\n",
              "  <tbody>\n",
              "    <tr>\n",
              "      <th>2918</th>\n",
              "      <td>Operations</td>\n",
              "      <td>26</td>\n",
              "      <td>1</td>\n",
              "      <td>4</td>\n",
              "      <td>1</td>\n",
              "      <td>61</td>\n",
              "      <td>60.153233</td>\n",
              "      <td>1</td>\n",
              "    </tr>\n",
              "    <tr>\n",
              "      <th>16861</th>\n",
              "      <td>Technology</td>\n",
              "      <td>45</td>\n",
              "      <td>1</td>\n",
              "      <td>4</td>\n",
              "      <td>5</td>\n",
              "      <td>82</td>\n",
              "      <td>79.747041</td>\n",
              "      <td>0</td>\n",
              "    </tr>\n",
              "    <tr>\n",
              "      <th>41307</th>\n",
              "      <td>Finance</td>\n",
              "      <td>27</td>\n",
              "      <td>1</td>\n",
              "      <td>4</td>\n",
              "      <td>1</td>\n",
              "      <td>56</td>\n",
              "      <td>60.178368</td>\n",
              "      <td>0</td>\n",
              "    </tr>\n",
              "    <tr>\n",
              "      <th>38867</th>\n",
              "      <td>Sales &amp; Marketing</td>\n",
              "      <td>31</td>\n",
              "      <td>0</td>\n",
              "      <td>4</td>\n",
              "      <td>5</td>\n",
              "      <td>46</td>\n",
              "      <td>49.979904</td>\n",
              "      <td>0</td>\n",
              "    </tr>\n",
              "    <tr>\n",
              "      <th>54107</th>\n",
              "      <td>Sales &amp; Marketing</td>\n",
              "      <td>34</td>\n",
              "      <td>1</td>\n",
              "      <td>3</td>\n",
              "      <td>7</td>\n",
              "      <td>47</td>\n",
              "      <td>50.410785</td>\n",
              "      <td>0</td>\n",
              "    </tr>\n",
              "  </tbody>\n",
              "</table>\n",
              "</div>"
            ],
            "text/plain": [
              "              department  age  ...        new  awards_won?\n",
              "2918          Operations   26  ...  60.153233            1\n",
              "16861         Technology   45  ...  79.747041            0\n",
              "41307            Finance   27  ...  60.178368            0\n",
              "38867  Sales & Marketing   31  ...  49.979904            0\n",
              "54107  Sales & Marketing   34  ...  50.410785            0\n",
              "\n",
              "[5 rows x 8 columns]"
            ]
          },
          "metadata": {},
          "execution_count": 17
        }
      ]
    },
    {
      "cell_type": "code",
      "metadata": {
        "id": "oJO3PtHNmkdJ"
      },
      "source": [
        "cater = x_train_1.select_dtypes(exclude=\"number\").columns"
      ],
      "execution_count": null,
      "outputs": []
    },
    {
      "cell_type": "code",
      "metadata": {
        "id": "c1HmxVb3mdum"
      },
      "source": [
        "le = {}\n",
        "for i in cater:\n",
        "    le[i] = LabelEncoder()\n",
        "    x_train_1[i] = le[i].fit_transform(x_train_1[i]) \n",
        "    x_val_1[i] = le[i].transform(x_val_1[i])"
      ],
      "execution_count": null,
      "outputs": []
    },
    {
      "cell_type": "code",
      "metadata": {
        "colab": {
          "base_uri": "https://localhost:8080/"
        },
        "id": "v3rxz8EanE_X",
        "outputId": "656648af-fec1-4d87-dd7c-da3457b919c8"
      },
      "source": [
        "x_train_1.head()"
      ],
      "execution_count": null,
      "outputs": [
        {
          "output_type": "execute_result",
          "data": {
            "text/html": [
              "<div>\n",
              "<style scoped>\n",
              "    .dataframe tbody tr th:only-of-type {\n",
              "        vertical-align: middle;\n",
              "    }\n",
              "\n",
              "    .dataframe tbody tr th {\n",
              "        vertical-align: top;\n",
              "    }\n",
              "\n",
              "    .dataframe thead th {\n",
              "        text-align: right;\n",
              "    }\n",
              "</style>\n",
              "<table border=\"1\" class=\"dataframe\">\n",
              "  <thead>\n",
              "    <tr style=\"text-align: right;\">\n",
              "      <th></th>\n",
              "      <th>department</th>\n",
              "      <th>age</th>\n",
              "      <th>KPIs_met &gt;80%</th>\n",
              "      <th>previous_year_rating</th>\n",
              "      <th>length_of_service</th>\n",
              "      <th>avg_training_score</th>\n",
              "      <th>new</th>\n",
              "      <th>awards_won?</th>\n",
              "    </tr>\n",
              "  </thead>\n",
              "  <tbody>\n",
              "    <tr>\n",
              "      <th>2918</th>\n",
              "      <td>4</td>\n",
              "      <td>26</td>\n",
              "      <td>1</td>\n",
              "      <td>4</td>\n",
              "      <td>1</td>\n",
              "      <td>61</td>\n",
              "      <td>60.153233</td>\n",
              "      <td>1</td>\n",
              "    </tr>\n",
              "    <tr>\n",
              "      <th>16861</th>\n",
              "      <td>8</td>\n",
              "      <td>45</td>\n",
              "      <td>1</td>\n",
              "      <td>4</td>\n",
              "      <td>5</td>\n",
              "      <td>82</td>\n",
              "      <td>79.747041</td>\n",
              "      <td>0</td>\n",
              "    </tr>\n",
              "    <tr>\n",
              "      <th>41307</th>\n",
              "      <td>1</td>\n",
              "      <td>27</td>\n",
              "      <td>1</td>\n",
              "      <td>4</td>\n",
              "      <td>1</td>\n",
              "      <td>56</td>\n",
              "      <td>60.178368</td>\n",
              "      <td>0</td>\n",
              "    </tr>\n",
              "    <tr>\n",
              "      <th>38867</th>\n",
              "      <td>7</td>\n",
              "      <td>31</td>\n",
              "      <td>0</td>\n",
              "      <td>4</td>\n",
              "      <td>5</td>\n",
              "      <td>46</td>\n",
              "      <td>49.979904</td>\n",
              "      <td>0</td>\n",
              "    </tr>\n",
              "    <tr>\n",
              "      <th>54107</th>\n",
              "      <td>7</td>\n",
              "      <td>34</td>\n",
              "      <td>1</td>\n",
              "      <td>3</td>\n",
              "      <td>7</td>\n",
              "      <td>47</td>\n",
              "      <td>50.410785</td>\n",
              "      <td>0</td>\n",
              "    </tr>\n",
              "  </tbody>\n",
              "</table>\n",
              "</div>"
            ],
            "text/plain": [
              "       department  age  ...        new  awards_won?\n",
              "2918            4   26  ...  60.153233            1\n",
              "16861           8   45  ...  79.747041            0\n",
              "41307           1   27  ...  60.178368            0\n",
              "38867           7   31  ...  49.979904            0\n",
              "54107           7   34  ...  50.410785            0\n",
              "\n",
              "[5 rows x 8 columns]"
            ]
          },
          "metadata": {},
          "execution_count": 20
        }
      ]
    },
    {
      "cell_type": "code",
      "metadata": {
        "id": "ZmJn7y_CnIlH"
      },
      "source": [
        "XGB = XGBClassifier(random_state=10)\n",
        "GBT = GradientBoostingClassifier(random_state=20)\n",
        "HGBT = HistGradientBoostingClassifier(random_state=30)\n",
        "ADA = AdaBoostClassifier(random_state=40)\n",
        "EXT = ExtraTreeClassifier(random_state=50)\n",
        "RF = RandomForestClassifier(random_state=60)\n",
        "DT = DecisionTreeClassifier(random_state=70)"
      ],
      "execution_count": null,
      "outputs": []
    },
    {
      "cell_type": "code",
      "metadata": {
        "id": "J6pe5QSknRTT"
      },
      "source": [
        "def score_1(model,x_train, y_train, x_val, y_val):\n",
        "    #fit model\n",
        "    model.fit(x_train,y_train)\n",
        " \n",
        "    #score train dan val\n",
        "    acc_train.append(model.score(x_train, y_train)) \n",
        "    acc_val.append(model.score(x_val, y_val)) \n",
        "        \n",
        "    #f1 score\n",
        "    pred = model.predict(x_val)\n",
        "    score = f1_score(y_val, pred) \n",
        "    f1.append(score) \n",
        "    \n",
        "    return model"
      ],
      "execution_count": null,
      "outputs": []
    },
    {
      "cell_type": "code",
      "metadata": {
        "colab": {
          "base_uri": "https://localhost:8080/"
        },
        "id": "dGxVpa84nk9q",
        "outputId": "724053d5-5218-4595-b801-4a13dfb2653d"
      },
      "source": [
        "for i in [XGB,ADA,GBT,HGBT,DT,RF,EXT]:\n",
        "    print(30*\"-\")\n",
        "    print(i)\n",
        "    score_1(i, x_train_1, y_train, x_val_1, y_val)\n",
        "    print(10*\"->\" + \" DONE\")"
      ],
      "execution_count": null,
      "outputs": [
        {
          "output_type": "stream",
          "name": "stdout",
          "text": [
            "------------------------------\n",
            "XGBClassifier(random_state=10)\n",
            "->->->->->->->->->-> DONE\n",
            "------------------------------\n",
            "AdaBoostClassifier(random_state=40)\n",
            "->->->->->->->->->-> DONE\n",
            "------------------------------\n",
            "GradientBoostingClassifier(random_state=20)\n",
            "->->->->->->->->->-> DONE\n",
            "------------------------------\n",
            "HistGradientBoostingClassifier(random_state=30)\n",
            "->->->->->->->->->-> DONE\n",
            "------------------------------\n",
            "DecisionTreeClassifier(random_state=70)\n",
            "->->->->->->->->->-> DONE\n",
            "------------------------------\n",
            "RandomForestClassifier(random_state=60)\n",
            "->->->->->->->->->-> DONE\n",
            "------------------------------\n",
            "ExtraTreeClassifier(random_state=50)\n",
            "->->->->->->->->->-> DONE\n"
          ]
        }
      ]
    },
    {
      "cell_type": "markdown",
      "metadata": {
        "id": "WfdaA8a6oDH5"
      },
      "source": [
        "## Model-2"
      ]
    },
    {
      "cell_type": "code",
      "metadata": {
        "id": "aA-zethCoGC6"
      },
      "source": [
        "x_train_2 = x_train[col]\n",
        "x_val_2 = x_val[col]"
      ],
      "execution_count": null,
      "outputs": []
    },
    {
      "cell_type": "code",
      "metadata": {
        "colab": {
          "base_uri": "https://localhost:8080/"
        },
        "id": "ovEs_MVboQ0J",
        "outputId": "1acfc949-9f9c-4dc3-c8e2-89cba0ce0b0e"
      },
      "source": [
        "x_train_2.dtypes"
      ],
      "execution_count": null,
      "outputs": [
        {
          "output_type": "execute_result",
          "data": {
            "text/plain": [
              "department              category\n",
              "age                        int64\n",
              "KPIs_met >80%              int64\n",
              "previous_year_rating       int64\n",
              "length_of_service          int64\n",
              "avg_training_score         int64\n",
              "new                      float64\n",
              "awards_won?                int64\n",
              "dtype: object"
            ]
          },
          "metadata": {},
          "execution_count": 25
        }
      ]
    },
    {
      "cell_type": "code",
      "metadata": {
        "id": "9PMgeKpToV5G"
      },
      "source": [
        "CB = CatBoostClassifier(random_state=12)\n",
        "LGBM = LGBMClassifier(random_state=14)"
      ],
      "execution_count": null,
      "outputs": []
    },
    {
      "cell_type": "code",
      "metadata": {
        "id": "zIMstJnDoiDQ"
      },
      "source": [
        "def score_2(model,x_train, y_train, x_val, y_val):\n",
        "       \n",
        "    #lgbm\n",
        "    if model == LGBM:\n",
        "       #fit model\n",
        "       model.fit(x_train,y_train,verbose=False)\n",
        " \n",
        "       #accuracy train dan val\n",
        "       acc_train.append(model.score(x_train, y_train))\n",
        "       acc_val.append(model.score(x_val, y_val))\n",
        "     \n",
        "       #f1 score      \n",
        "       pred = model.predict(x_val)\n",
        "       score = f1_score(y_val, pred)\n",
        "       f1.append(score)\n",
        " \n",
        "   #catboost\n",
        "    else:         \n",
        "       model.fit(x_train,y_train,cat_features=cater.to_list(),verbose=False)\n",
        " \n",
        "       #accuracy train dan val\n",
        "       acc_train.append(model.score(x_train, y_train))\n",
        "       acc_val.append(model.score(x_val, y_val))\n",
        "          \n",
        "       #f1 score\n",
        "       pred = model.predict(x_val)\n",
        "       score = f1_score(y_val, pred)\n",
        "       f1.append(score)\n",
        "\n",
        "    return model"
      ],
      "execution_count": null,
      "outputs": []
    },
    {
      "cell_type": "code",
      "metadata": {
        "colab": {
          "base_uri": "https://localhost:8080/"
        },
        "id": "d3nj730jpDZV",
        "outputId": "873d6860-4946-448f-cf58-210d807d762d"
      },
      "source": [
        "for i in [CB,LGBM]:\n",
        "    print(30*\"-\")\n",
        "    print(i)\n",
        "    score_2(i, x_train_2, y_train, x_val_2, y_val)\n",
        "    print(10*\"->\" + \" DONE\")"
      ],
      "execution_count": null,
      "outputs": [
        {
          "output_type": "stream",
          "name": "stdout",
          "text": [
            "------------------------------\n",
            "<catboost.core.CatBoostClassifier object at 0x7fd11e960e90>\n",
            "->->->->->->->->->-> DONE\n",
            "------------------------------\n",
            "LGBMClassifier(random_state=14)\n",
            "->->->->->->->->->-> DONE\n"
          ]
        }
      ]
    },
    {
      "cell_type": "markdown",
      "metadata": {
        "id": "anQnqvxepFyY"
      },
      "source": [
        "## Model-3"
      ]
    },
    {
      "cell_type": "code",
      "metadata": {
        "id": "nNZf5_g0pHcy"
      },
      "source": [
        "x_train_3 = x_train[col]\n",
        "x_val_3 = x_val[col]"
      ],
      "execution_count": null,
      "outputs": []
    },
    {
      "cell_type": "code",
      "metadata": {
        "colab": {
          "base_uri": "https://localhost:8080/"
        },
        "id": "W6nCT0QEphC0",
        "outputId": "5b984212-3153-4903-8b7f-41e4ece37a30"
      },
      "source": [
        "x_train_3"
      ],
      "execution_count": null,
      "outputs": [
        {
          "output_type": "execute_result",
          "data": {
            "text/html": [
              "<div>\n",
              "<style scoped>\n",
              "    .dataframe tbody tr th:only-of-type {\n",
              "        vertical-align: middle;\n",
              "    }\n",
              "\n",
              "    .dataframe tbody tr th {\n",
              "        vertical-align: top;\n",
              "    }\n",
              "\n",
              "    .dataframe thead th {\n",
              "        text-align: right;\n",
              "    }\n",
              "</style>\n",
              "<table border=\"1\" class=\"dataframe\">\n",
              "  <thead>\n",
              "    <tr style=\"text-align: right;\">\n",
              "      <th></th>\n",
              "      <th>department</th>\n",
              "      <th>age</th>\n",
              "      <th>KPIs_met &gt;80%</th>\n",
              "      <th>previous_year_rating</th>\n",
              "      <th>length_of_service</th>\n",
              "      <th>avg_training_score</th>\n",
              "      <th>new</th>\n",
              "      <th>awards_won?</th>\n",
              "    </tr>\n",
              "  </thead>\n",
              "  <tbody>\n",
              "    <tr>\n",
              "      <th>2918</th>\n",
              "      <td>Operations</td>\n",
              "      <td>26</td>\n",
              "      <td>1</td>\n",
              "      <td>4</td>\n",
              "      <td>1</td>\n",
              "      <td>61</td>\n",
              "      <td>60.153233</td>\n",
              "      <td>1</td>\n",
              "    </tr>\n",
              "    <tr>\n",
              "      <th>16861</th>\n",
              "      <td>Technology</td>\n",
              "      <td>45</td>\n",
              "      <td>1</td>\n",
              "      <td>4</td>\n",
              "      <td>5</td>\n",
              "      <td>82</td>\n",
              "      <td>79.747041</td>\n",
              "      <td>0</td>\n",
              "    </tr>\n",
              "    <tr>\n",
              "      <th>41307</th>\n",
              "      <td>Finance</td>\n",
              "      <td>27</td>\n",
              "      <td>1</td>\n",
              "      <td>4</td>\n",
              "      <td>1</td>\n",
              "      <td>56</td>\n",
              "      <td>60.178368</td>\n",
              "      <td>0</td>\n",
              "    </tr>\n",
              "    <tr>\n",
              "      <th>38867</th>\n",
              "      <td>Sales &amp; Marketing</td>\n",
              "      <td>31</td>\n",
              "      <td>0</td>\n",
              "      <td>4</td>\n",
              "      <td>5</td>\n",
              "      <td>46</td>\n",
              "      <td>49.979904</td>\n",
              "      <td>0</td>\n",
              "    </tr>\n",
              "    <tr>\n",
              "      <th>54107</th>\n",
              "      <td>Sales &amp; Marketing</td>\n",
              "      <td>34</td>\n",
              "      <td>1</td>\n",
              "      <td>3</td>\n",
              "      <td>7</td>\n",
              "      <td>47</td>\n",
              "      <td>50.410785</td>\n",
              "      <td>0</td>\n",
              "    </tr>\n",
              "    <tr>\n",
              "      <th>...</th>\n",
              "      <td>...</td>\n",
              "      <td>...</td>\n",
              "      <td>...</td>\n",
              "      <td>...</td>\n",
              "      <td>...</td>\n",
              "      <td>...</td>\n",
              "      <td>...</td>\n",
              "      <td>...</td>\n",
              "    </tr>\n",
              "    <tr>\n",
              "      <th>43148</th>\n",
              "      <td>Sales &amp; Marketing</td>\n",
              "      <td>54</td>\n",
              "      <td>0</td>\n",
              "      <td>4</td>\n",
              "      <td>27</td>\n",
              "      <td>53</td>\n",
              "      <td>50.404624</td>\n",
              "      <td>0</td>\n",
              "    </tr>\n",
              "    <tr>\n",
              "      <th>1305</th>\n",
              "      <td>Sales &amp; Marketing</td>\n",
              "      <td>32</td>\n",
              "      <td>1</td>\n",
              "      <td>3</td>\n",
              "      <td>6</td>\n",
              "      <td>47</td>\n",
              "      <td>50.264516</td>\n",
              "      <td>0</td>\n",
              "    </tr>\n",
              "    <tr>\n",
              "      <th>49992</th>\n",
              "      <td>Sales &amp; Marketing</td>\n",
              "      <td>41</td>\n",
              "      <td>1</td>\n",
              "      <td>4</td>\n",
              "      <td>1</td>\n",
              "      <td>49</td>\n",
              "      <td>50.410785</td>\n",
              "      <td>1</td>\n",
              "    </tr>\n",
              "    <tr>\n",
              "      <th>1092</th>\n",
              "      <td>Procurement</td>\n",
              "      <td>54</td>\n",
              "      <td>0</td>\n",
              "      <td>3</td>\n",
              "      <td>16</td>\n",
              "      <td>73</td>\n",
              "      <td>70.030541</td>\n",
              "      <td>0</td>\n",
              "    </tr>\n",
              "    <tr>\n",
              "      <th>41424</th>\n",
              "      <td>Procurement</td>\n",
              "      <td>37</td>\n",
              "      <td>1</td>\n",
              "      <td>4</td>\n",
              "      <td>8</td>\n",
              "      <td>74</td>\n",
              "      <td>70.375211</td>\n",
              "      <td>1</td>\n",
              "    </tr>\n",
              "  </tbody>\n",
              "</table>\n",
              "<p>43846 rows × 8 columns</p>\n",
              "</div>"
            ],
            "text/plain": [
              "              department  age  ...        new  awards_won?\n",
              "2918          Operations   26  ...  60.153233            1\n",
              "16861         Technology   45  ...  79.747041            0\n",
              "41307            Finance   27  ...  60.178368            0\n",
              "38867  Sales & Marketing   31  ...  49.979904            0\n",
              "54107  Sales & Marketing   34  ...  50.410785            0\n",
              "...                  ...  ...  ...        ...          ...\n",
              "43148  Sales & Marketing   54  ...  50.404624            0\n",
              "1305   Sales & Marketing   32  ...  50.264516            0\n",
              "49992  Sales & Marketing   41  ...  50.410785            1\n",
              "1092         Procurement   54  ...  70.030541            0\n",
              "41424        Procurement   37  ...  70.375211            1\n",
              "\n",
              "[43846 rows x 8 columns]"
            ]
          },
          "metadata": {},
          "execution_count": 30
        }
      ]
    },
    {
      "cell_type": "code",
      "metadata": {
        "id": "8LFqfhNepqPG"
      },
      "source": [
        "sc = StandardScaler()\n",
        "x_train_3.iloc[:,1:] = sc.fit_transform(x_train_3.iloc[:,1:]) \n",
        "x_val_3.iloc[:,1:] = sc.transform(x_val_3.iloc[:,1:])"
      ],
      "execution_count": null,
      "outputs": []
    },
    {
      "cell_type": "code",
      "metadata": {
        "colab": {
          "base_uri": "https://localhost:8080/"
        },
        "id": "MpPeig8KqAPG",
        "outputId": "2feb5b80-3e38-43b2-c8fe-214243690131"
      },
      "source": [
        "x_val_3.head()"
      ],
      "execution_count": null,
      "outputs": [
        {
          "output_type": "execute_result",
          "data": {
            "text/html": [
              "<div>\n",
              "<style scoped>\n",
              "    .dataframe tbody tr th:only-of-type {\n",
              "        vertical-align: middle;\n",
              "    }\n",
              "\n",
              "    .dataframe tbody tr th {\n",
              "        vertical-align: top;\n",
              "    }\n",
              "\n",
              "    .dataframe thead th {\n",
              "        text-align: right;\n",
              "    }\n",
              "</style>\n",
              "<table border=\"1\" class=\"dataframe\">\n",
              "  <thead>\n",
              "    <tr style=\"text-align: right;\">\n",
              "      <th></th>\n",
              "      <th>department</th>\n",
              "      <th>age</th>\n",
              "      <th>KPIs_met &gt;80%</th>\n",
              "      <th>previous_year_rating</th>\n",
              "      <th>length_of_service</th>\n",
              "      <th>avg_training_score</th>\n",
              "      <th>new</th>\n",
              "      <th>awards_won?</th>\n",
              "    </tr>\n",
              "  </thead>\n",
              "  <tbody>\n",
              "    <tr>\n",
              "      <th>3717</th>\n",
              "      <td>Sales &amp; Marketing</td>\n",
              "      <td>0.415160</td>\n",
              "      <td>-0.736262</td>\n",
              "      <td>-1.094148</td>\n",
              "      <td>0.737719</td>\n",
              "      <td>-0.776001</td>\n",
              "      <td>-1.069010</td>\n",
              "      <td>-0.155178</td>\n",
              "    </tr>\n",
              "    <tr>\n",
              "      <th>47135</th>\n",
              "      <td>Finance</td>\n",
              "      <td>-0.627258</td>\n",
              "      <td>1.358213</td>\n",
              "      <td>-0.273139</td>\n",
              "      <td>0.033146</td>\n",
              "      <td>0.047647</td>\n",
              "      <td>-0.251123</td>\n",
              "      <td>-0.155178</td>\n",
              "    </tr>\n",
              "    <tr>\n",
              "      <th>20309</th>\n",
              "      <td>Procurement</td>\n",
              "      <td>2.890901</td>\n",
              "      <td>-0.736262</td>\n",
              "      <td>-0.273139</td>\n",
              "      <td>2.381722</td>\n",
              "      <td>0.347156</td>\n",
              "      <td>0.540359</td>\n",
              "      <td>-0.155178</td>\n",
              "    </tr>\n",
              "    <tr>\n",
              "      <th>46728</th>\n",
              "      <td>Procurement</td>\n",
              "      <td>-0.627258</td>\n",
              "      <td>1.358213</td>\n",
              "      <td>-0.273139</td>\n",
              "      <td>-0.436570</td>\n",
              "      <td>0.571787</td>\n",
              "      <td>0.532330</td>\n",
              "      <td>-0.155178</td>\n",
              "    </tr>\n",
              "    <tr>\n",
              "      <th>42543</th>\n",
              "      <td>Sales &amp; Marketing</td>\n",
              "      <td>-0.106049</td>\n",
              "      <td>-0.736262</td>\n",
              "      <td>0.547870</td>\n",
              "      <td>0.033146</td>\n",
              "      <td>-1.000633</td>\n",
              "      <td>-1.046280</td>\n",
              "      <td>-0.155178</td>\n",
              "    </tr>\n",
              "  </tbody>\n",
              "</table>\n",
              "</div>"
            ],
            "text/plain": [
              "              department       age  ...       new  awards_won?\n",
              "3717   Sales & Marketing  0.415160  ... -1.069010    -0.155178\n",
              "47135            Finance -0.627258  ... -0.251123    -0.155178\n",
              "20309        Procurement  2.890901  ...  0.540359    -0.155178\n",
              "46728        Procurement -0.627258  ...  0.532330    -0.155178\n",
              "42543  Sales & Marketing -0.106049  ... -1.046280    -0.155178\n",
              "\n",
              "[5 rows x 8 columns]"
            ]
          },
          "metadata": {},
          "execution_count": 32
        }
      ]
    },
    {
      "cell_type": "code",
      "metadata": {
        "id": "e0RV7vu_qH8G"
      },
      "source": [
        "x_train_3 = pd.get_dummies(x_train_3)\n",
        "x_val_3 = pd.get_dummies(x_val_3)"
      ],
      "execution_count": null,
      "outputs": []
    },
    {
      "cell_type": "code",
      "metadata": {
        "colab": {
          "base_uri": "https://localhost:8080/"
        },
        "id": "RZmvyO8EqTgS",
        "outputId": "2c9400ac-0219-41a8-8191-99ce306b925b"
      },
      "source": [
        "x_val_3.head()"
      ],
      "execution_count": null,
      "outputs": [
        {
          "output_type": "execute_result",
          "data": {
            "text/html": [
              "<div>\n",
              "<style scoped>\n",
              "    .dataframe tbody tr th:only-of-type {\n",
              "        vertical-align: middle;\n",
              "    }\n",
              "\n",
              "    .dataframe tbody tr th {\n",
              "        vertical-align: top;\n",
              "    }\n",
              "\n",
              "    .dataframe thead th {\n",
              "        text-align: right;\n",
              "    }\n",
              "</style>\n",
              "<table border=\"1\" class=\"dataframe\">\n",
              "  <thead>\n",
              "    <tr style=\"text-align: right;\">\n",
              "      <th></th>\n",
              "      <th>age</th>\n",
              "      <th>KPIs_met &gt;80%</th>\n",
              "      <th>previous_year_rating</th>\n",
              "      <th>length_of_service</th>\n",
              "      <th>avg_training_score</th>\n",
              "      <th>new</th>\n",
              "      <th>awards_won?</th>\n",
              "      <th>department_Analytics</th>\n",
              "      <th>department_Finance</th>\n",
              "      <th>department_HR</th>\n",
              "      <th>department_Legal</th>\n",
              "      <th>department_Operations</th>\n",
              "      <th>department_Procurement</th>\n",
              "      <th>department_R&amp;D</th>\n",
              "      <th>department_Sales &amp; Marketing</th>\n",
              "      <th>department_Technology</th>\n",
              "    </tr>\n",
              "  </thead>\n",
              "  <tbody>\n",
              "    <tr>\n",
              "      <th>3717</th>\n",
              "      <td>0.415160</td>\n",
              "      <td>-0.736262</td>\n",
              "      <td>-1.094148</td>\n",
              "      <td>0.737719</td>\n",
              "      <td>-0.776001</td>\n",
              "      <td>-1.069010</td>\n",
              "      <td>-0.155178</td>\n",
              "      <td>0</td>\n",
              "      <td>0</td>\n",
              "      <td>0</td>\n",
              "      <td>0</td>\n",
              "      <td>0</td>\n",
              "      <td>0</td>\n",
              "      <td>0</td>\n",
              "      <td>1</td>\n",
              "      <td>0</td>\n",
              "    </tr>\n",
              "    <tr>\n",
              "      <th>47135</th>\n",
              "      <td>-0.627258</td>\n",
              "      <td>1.358213</td>\n",
              "      <td>-0.273139</td>\n",
              "      <td>0.033146</td>\n",
              "      <td>0.047647</td>\n",
              "      <td>-0.251123</td>\n",
              "      <td>-0.155178</td>\n",
              "      <td>0</td>\n",
              "      <td>1</td>\n",
              "      <td>0</td>\n",
              "      <td>0</td>\n",
              "      <td>0</td>\n",
              "      <td>0</td>\n",
              "      <td>0</td>\n",
              "      <td>0</td>\n",
              "      <td>0</td>\n",
              "    </tr>\n",
              "    <tr>\n",
              "      <th>20309</th>\n",
              "      <td>2.890901</td>\n",
              "      <td>-0.736262</td>\n",
              "      <td>-0.273139</td>\n",
              "      <td>2.381722</td>\n",
              "      <td>0.347156</td>\n",
              "      <td>0.540359</td>\n",
              "      <td>-0.155178</td>\n",
              "      <td>0</td>\n",
              "      <td>0</td>\n",
              "      <td>0</td>\n",
              "      <td>0</td>\n",
              "      <td>0</td>\n",
              "      <td>1</td>\n",
              "      <td>0</td>\n",
              "      <td>0</td>\n",
              "      <td>0</td>\n",
              "    </tr>\n",
              "    <tr>\n",
              "      <th>46728</th>\n",
              "      <td>-0.627258</td>\n",
              "      <td>1.358213</td>\n",
              "      <td>-0.273139</td>\n",
              "      <td>-0.436570</td>\n",
              "      <td>0.571787</td>\n",
              "      <td>0.532330</td>\n",
              "      <td>-0.155178</td>\n",
              "      <td>0</td>\n",
              "      <td>0</td>\n",
              "      <td>0</td>\n",
              "      <td>0</td>\n",
              "      <td>0</td>\n",
              "      <td>1</td>\n",
              "      <td>0</td>\n",
              "      <td>0</td>\n",
              "      <td>0</td>\n",
              "    </tr>\n",
              "    <tr>\n",
              "      <th>42543</th>\n",
              "      <td>-0.106049</td>\n",
              "      <td>-0.736262</td>\n",
              "      <td>0.547870</td>\n",
              "      <td>0.033146</td>\n",
              "      <td>-1.000633</td>\n",
              "      <td>-1.046280</td>\n",
              "      <td>-0.155178</td>\n",
              "      <td>0</td>\n",
              "      <td>0</td>\n",
              "      <td>0</td>\n",
              "      <td>0</td>\n",
              "      <td>0</td>\n",
              "      <td>0</td>\n",
              "      <td>0</td>\n",
              "      <td>1</td>\n",
              "      <td>0</td>\n",
              "    </tr>\n",
              "  </tbody>\n",
              "</table>\n",
              "</div>"
            ],
            "text/plain": [
              "            age  ...  department_Technology\n",
              "3717   0.415160  ...                      0\n",
              "47135 -0.627258  ...                      0\n",
              "20309  2.890901  ...                      0\n",
              "46728 -0.627258  ...                      0\n",
              "42543 -0.106049  ...                      0\n",
              "\n",
              "[5 rows x 16 columns]"
            ]
          },
          "metadata": {},
          "execution_count": 34
        }
      ]
    },
    {
      "cell_type": "code",
      "metadata": {
        "id": "9w_qlgQUqZ48"
      },
      "source": [
        "LR = LogisticRegression(random_state=14)\n",
        "KNN = KNeighborsClassifier() \n",
        "SGDC = SGDClassifier(random_state=19)\n",
        "#SVM = SVC(kernel=\"linear\",random_state=73,probability=True)"
      ],
      "execution_count": null,
      "outputs": []
    },
    {
      "cell_type": "code",
      "metadata": {
        "id": "JXvHSb81q4xB"
      },
      "source": [
        "def score_3(model,x_train, y_train, x_val, y_val):\n",
        "    #fit model\n",
        "    model.fit(x_train,y_train)\n",
        " \n",
        "    #score train dan val\n",
        "    acc_train.append(model.score(x_train, y_train)) \n",
        "    acc_val.append(model.score(x_val, y_val)) \n",
        "        \n",
        "    #f1 score\n",
        "    pred = model.predict(x_val)\n",
        "    score = f1_score(y_val, pred) \n",
        "    f1.append(score) \n",
        "    \n",
        "    return model"
      ],
      "execution_count": null,
      "outputs": []
    },
    {
      "cell_type": "code",
      "metadata": {
        "colab": {
          "base_uri": "https://localhost:8080/"
        },
        "id": "RUjeVApRq9wB",
        "outputId": "c9abe42b-4fbb-46b9-e8a6-df557e3f1a3c"
      },
      "source": [
        "for i in [LR,KNN,SGDC]:\n",
        "    print(30*\"-\")\n",
        "    print(i)\n",
        "    score_3(i, x_train_3, y_train, x_val_3, y_val)\n",
        "    print(10*\"->\" + \" DONE\")"
      ],
      "execution_count": null,
      "outputs": [
        {
          "output_type": "stream",
          "name": "stdout",
          "text": [
            "------------------------------\n",
            "LogisticRegression(random_state=14)\n",
            "->->->->->->->->->-> DONE\n",
            "------------------------------\n",
            "KNeighborsClassifier()\n",
            "->->->->->->->->->-> DONE\n",
            "------------------------------\n",
            "SGDClassifier(random_state=19)\n",
            "->->->->->->->->->-> DONE\n"
          ]
        }
      ]
    },
    {
      "cell_type": "markdown",
      "metadata": {
        "id": "pzc2Hr1_n_zQ"
      },
      "source": [
        "## Model - selection"
      ]
    },
    {
      "cell_type": "code",
      "metadata": {
        "id": "uDIvS9nJns-z"
      },
      "source": [
        "all_models = pd.DataFrame({\"models\": [\"XGB\", \"ADA\", \"GBT\", \"HGBT\", \"DT\", \"RF\", \"EXT\",\"CB\",\"LGBM\",\"LR\",\"KNN\",\"SGDC\"], \n",
        "                          \"Train_accuracy\": acc_train, \n",
        "                          \"Val_accuracy\": acc_val,\n",
        "                          \"f1_score\": f1})\n",
        "#all_models = all_models.set_index(\"models\")"
      ],
      "execution_count": null,
      "outputs": []
    },
    {
      "cell_type": "code",
      "metadata": {
        "colab": {
          "base_uri": "https://localhost:8080/",
          "height": 441
        },
        "id": "ELkxiN90n2d4",
        "outputId": "d17ab6bb-e0ad-4aa8-99f7-3b7f79054fbf"
      },
      "source": [
        "all_models"
      ],
      "execution_count": null,
      "outputs": [
        {
          "output_type": "execute_result",
          "data": {
            "text/html": [
              "<div>\n",
              "<style scoped>\n",
              "    .dataframe tbody tr th:only-of-type {\n",
              "        vertical-align: middle;\n",
              "    }\n",
              "\n",
              "    .dataframe tbody tr th {\n",
              "        vertical-align: top;\n",
              "    }\n",
              "\n",
              "    .dataframe thead th {\n",
              "        text-align: right;\n",
              "    }\n",
              "</style>\n",
              "<table border=\"1\" class=\"dataframe\">\n",
              "  <thead>\n",
              "    <tr style=\"text-align: right;\">\n",
              "      <th></th>\n",
              "      <th>models</th>\n",
              "      <th>Train_accuracy</th>\n",
              "      <th>Val_accuracy</th>\n",
              "      <th>f1_score</th>\n",
              "    </tr>\n",
              "  </thead>\n",
              "  <tbody>\n",
              "    <tr>\n",
              "      <th>0</th>\n",
              "      <td>XGB</td>\n",
              "      <td>0.941454</td>\n",
              "      <td>0.941160</td>\n",
              "      <td>0.480258</td>\n",
              "    </tr>\n",
              "    <tr>\n",
              "      <th>1</th>\n",
              "      <td>ADA</td>\n",
              "      <td>0.924919</td>\n",
              "      <td>0.925014</td>\n",
              "      <td>0.319536</td>\n",
              "    </tr>\n",
              "    <tr>\n",
              "      <th>2</th>\n",
              "      <td>GBT</td>\n",
              "      <td>0.942389</td>\n",
              "      <td>0.941981</td>\n",
              "      <td>0.490385</td>\n",
              "    </tr>\n",
              "    <tr>\n",
              "      <th>3</th>\n",
              "      <td>HGBT</td>\n",
              "      <td>0.944465</td>\n",
              "      <td>0.942711</td>\n",
              "      <td>0.506289</td>\n",
              "    </tr>\n",
              "    <tr>\n",
              "      <th>4</th>\n",
              "      <td>DT</td>\n",
              "      <td>0.991128</td>\n",
              "      <td>0.902299</td>\n",
              "      <td>0.433633</td>\n",
              "    </tr>\n",
              "    <tr>\n",
              "      <th>5</th>\n",
              "      <td>RF</td>\n",
              "      <td>0.991105</td>\n",
              "      <td>0.932494</td>\n",
              "      <td>0.486824</td>\n",
              "    </tr>\n",
              "    <tr>\n",
              "      <th>6</th>\n",
              "      <td>EXT</td>\n",
              "      <td>0.991128</td>\n",
              "      <td>0.904671</td>\n",
              "      <td>0.403198</td>\n",
              "    </tr>\n",
              "    <tr>\n",
              "      <th>7</th>\n",
              "      <td>CB</td>\n",
              "      <td>0.946677</td>\n",
              "      <td>0.942711</td>\n",
              "      <td>0.509375</td>\n",
              "    </tr>\n",
              "    <tr>\n",
              "      <th>8</th>\n",
              "      <td>LGBM</td>\n",
              "      <td>0.945491</td>\n",
              "      <td>0.942164</td>\n",
              "      <td>0.503135</td>\n",
              "    </tr>\n",
              "    <tr>\n",
              "      <th>9</th>\n",
              "      <td>LR</td>\n",
              "      <td>0.932537</td>\n",
              "      <td>0.933680</td>\n",
              "      <td>0.403610</td>\n",
              "    </tr>\n",
              "    <tr>\n",
              "      <th>10</th>\n",
              "      <td>KNN</td>\n",
              "      <td>0.943461</td>\n",
              "      <td>0.932950</td>\n",
              "      <td>0.449438</td>\n",
              "    </tr>\n",
              "    <tr>\n",
              "      <th>11</th>\n",
              "      <td>SGDC</td>\n",
              "      <td>0.933723</td>\n",
              "      <td>0.934319</td>\n",
              "      <td>0.372822</td>\n",
              "    </tr>\n",
              "  </tbody>\n",
              "</table>\n",
              "</div>"
            ],
            "text/plain": [
              "   models  Train_accuracy  Val_accuracy  f1_score\n",
              "0     XGB        0.941454      0.941160  0.480258\n",
              "1     ADA        0.924919      0.925014  0.319536\n",
              "2     GBT        0.942389      0.941981  0.490385\n",
              "3    HGBT        0.944465      0.942711  0.506289\n",
              "4      DT        0.991128      0.902299  0.433633\n",
              "5      RF        0.991105      0.932494  0.486824\n",
              "6     EXT        0.991128      0.904671  0.403198\n",
              "7      CB        0.946677      0.942711  0.509375\n",
              "8    LGBM        0.945491      0.942164  0.503135\n",
              "9      LR        0.932537      0.933680  0.403610\n",
              "10    KNN        0.943461      0.932950  0.449438\n",
              "11   SGDC        0.933723      0.934319  0.372822"
            ]
          },
          "metadata": {},
          "execution_count": 39
        }
      ]
    },
    {
      "cell_type": "code",
      "metadata": {
        "colab": {
          "base_uri": "https://localhost:8080/",
          "height": 188
        },
        "id": "qziLCMN0rijI",
        "outputId": "9dc050ec-7785-45e7-ea85-0ebce8c77dee"
      },
      "source": [
        "\n",
        "plt.figure(figsize=(17, 8)) \n",
        "plt.plot(all_models.models, all_models.Train_accuracy,marker=\"o\",label=\"Train acc\")\n",
        "plt.plot(all_models.models, all_models.Val_accuracy,marker=\"o\", label=\"Val acc\")\n",
        "plt.ylim([0,1.00])\n",
        "plt.title(\"Accuracy train vs validation \")\n",
        "plt.xlabel(\"Models\")\n",
        "plt.ylabel(\"Accuracy\")\n",
        "plt.legend()"
      ],
      "execution_count": null,
      "outputs": [
        {
          "output_type": "execute_result",
          "data": {
            "text/plain": [
              "<matplotlib.legend.Legend at 0x7f2d02c6a450>"
            ]
          },
          "metadata": {},
          "execution_count": 61
        },
        {
          "output_type": "display_data",
          "data": {
            "image/png": "[encoded data removed]",
            "text/plain": [
              "<Figure size 1224x576 with 1 Axes>"
            ]
          },
          "metadata": {
            "needs_background": "light"
          }
        }
      ]
    },
    {
      "cell_type": "code",
      "metadata": {
        "id": "0dQPv7ues7VL"
      },
      "source": [
        ""
      ],
      "execution_count": null,
      "outputs": []
    },
    {
      "cell_type": "markdown",
      "metadata": {
        "id": "iMeZoGAAtyul"
      },
      "source": [
        "## Hyperparameter tuning"
      ]
    },
    {
      "cell_type": "code",
      "metadata": {
        "id": "FOuLZlfPt58-"
      },
      "source": [
        "#catboost\n",
        "def objective(trial):\n",
        "    \n",
        "    params = {#'loss_function':'Logloss',              \n",
        "              #'eval_metric':'Accuracy',\n",
        "              'task_type' : trial.suggest_categorical(\"task_type\",[\"GPU\"]),\n",
        "              'boosting_type': trial.suggest_categorical(\"boosting_type\", [\"Ordered\", \"Plain\"]),            \n",
        "              'bootstrap_type':trial.suggest_categorical(\"bootstrap_type\",[\"Bernoulli\"]), #\"MVS\"]),#\"Bayesian\" \n",
        "              'iterations':trial.suggest_categorical(\"iterations\", [10000]),\n",
        "              'od_wait':trial.suggest_int('od_wait', 500, 2000), \n",
        "              'random_strength': trial.suggest_uniform('random_strength',10,50), \n",
        "              'learning_rate' : trial.suggest_uniform('learning_rate',0.01,0.3),\n",
        "              'reg_lambda': trial.suggest_uniform('reg_lambda',1e-5,100),\n",
        "              'subsample': trial.suggest_uniform('subsample',0,1),\n",
        "              'depth': trial.suggest_int('depth',1,10),\n",
        "              'min_data_in_leaf': trial.suggest_int('min_data_in_leaf',1,30),\n",
        "              'leaf_estimation_iterations': trial.suggest_int('leaf_estimation_iterations',1,15),\n",
        "               }\n",
        "    model = CatBoostClassifier(**params)  \n",
        "    model.fit(x_train[col],y_train,eval_set=[(x_val[col],y_val)],verbose=False,early_stopping_rounds=100, \n",
        "              cat_features = cater.to_list())#catfeatures for category cols\n",
        "        \n",
        "    y_preds = model.predict(x_val[col])   \n",
        "    f1 = f1_score(y_val, y_preds)\n",
        "\n",
        "    return f1"
      ],
      "execution_count": null,
      "outputs": []
    },
    {
      "cell_type": "code",
      "metadata": {
        "colab": {
          "base_uri": "https://localhost:8080/"
        },
        "id": "ABWTo37nrutB",
        "outputId": "c60fb126-b5cf-4f09-ac26-9354dce2be17"
      },
      "source": [
        "study = optuna.create_study(direction='maximize') #for loss\n",
        "study.optimize(objective, n_trials=50)"
      ],
      "execution_count": null,
      "outputs": [
        {
          "output_type": "stream",
          "name": "stderr",
          "text": [
            "\u001b[32m[I 2021-10-27 08:04:20,429]\u001b[0m A new study created in memory with name: no-name-12378f64-5635-4fb2-9dae-82ad16a258d5\u001b[0m\n",
            "\u001b[32m[I 2021-10-27 08:05:25,530]\u001b[0m Trial 0 finished with value: 0.5117004680187207 and parameters: {'task_type': 'GPU', 'boosting_type': 'Ordered', 'bootstrap_type': 'Bernoulli', 'iterations': 10000, 'od_wait': 1224, 'random_strength': 28.087840467164455, 'learning_rate': 0.10077879978504381, 'reg_lambda': 32.89271167641243, 'subsample': 0.4338028152864343, 'depth': 9, 'min_data_in_leaf': 1, 'leaf_estimation_iterations': 4}. Best is trial 0 with value: 0.5117004680187207.\u001b[0m\n",
            "\u001b[32m[I 2021-10-27 08:06:12,888]\u001b[0m Trial 1 finished with value: 0.5139751552795031 and parameters: {'task_type': 'GPU', 'boosting_type': 'Ordered', 'bootstrap_type': 'Bernoulli', 'iterations': 10000, 'od_wait': 1086, 'random_strength': 24.522453380293552, 'learning_rate': 0.14974191471966208, 'reg_lambda': 93.56823131502333, 'subsample': 0.5842155685010583, 'depth': 4, 'min_data_in_leaf': 9, 'leaf_estimation_iterations': 10}. Best is trial 1 with value: 0.5139751552795031.\u001b[0m\n",
            "\u001b[32m[I 2021-10-27 08:07:13,644]\u001b[0m Trial 2 finished with value: 0.5128205128205129 and parameters: {'task_type': 'GPU', 'boosting_type': 'Ordered', 'bootstrap_type': 'Bernoulli', 'iterations': 10000, 'od_wait': 1610, 'random_strength': 44.958959711515185, 'learning_rate': 0.16001360717432467, 'reg_lambda': 94.76379464688522, 'subsample': 0.9467966305667198, 'depth': 9, 'min_data_in_leaf': 18, 'leaf_estimation_iterations': 12}. Best is trial 1 with value: 0.5139751552795031.\u001b[0m\n",
            "\u001b[32m[I 2021-10-27 08:07:31,274]\u001b[0m Trial 3 finished with value: 0.5139751552795031 and parameters: {'task_type': 'GPU', 'boosting_type': 'Ordered', 'bootstrap_type': 'Bernoulli', 'iterations': 10000, 'od_wait': 1540, 'random_strength': 18.597329941129637, 'learning_rate': 0.2973779430136644, 'reg_lambda': 68.87409378012639, 'subsample': 0.31223708052360966, 'depth': 6, 'min_data_in_leaf': 9, 'leaf_estimation_iterations': 2}. Best is trial 1 with value: 0.5139751552795031.\u001b[0m\n",
            "\u001b[32m[I 2021-10-27 08:08:09,441]\u001b[0m Trial 4 finished with value: 0.5113725490196079 and parameters: {'task_type': 'GPU', 'boosting_type': 'Ordered', 'bootstrap_type': 'Bernoulli', 'iterations': 10000, 'od_wait': 607, 'random_strength': 16.026061009398006, 'learning_rate': 0.2254347445303433, 'reg_lambda': 15.6087273291504, 'subsample': 0.4411870218457572, 'depth': 10, 'min_data_in_leaf': 27, 'leaf_estimation_iterations': 4}. Best is trial 1 with value: 0.5139751552795031.\u001b[0m\n",
            "\u001b[32m[I 2021-10-27 08:09:33,017]\u001b[0m Trial 5 finished with value: 0.5039494470774091 and parameters: {'task_type': 'GPU', 'boosting_type': 'Plain', 'bootstrap_type': 'Bernoulli', 'iterations': 10000, 'od_wait': 1991, 'random_strength': 21.391400020806746, 'learning_rate': 0.04888314659089783, 'reg_lambda': 72.11795916022845, 'subsample': 0.03099416124324672, 'depth': 3, 'min_data_in_leaf': 13, 'leaf_estimation_iterations': 10}. Best is trial 1 with value: 0.5139751552795031.\u001b[0m\n",
            "\u001b[32m[I 2021-10-27 08:09:54,028]\u001b[0m Trial 6 finished with value: 0.5062893081761006 and parameters: {'task_type': 'GPU', 'boosting_type': 'Plain', 'bootstrap_type': 'Bernoulli', 'iterations': 10000, 'od_wait': 1918, 'random_strength': 38.634976758846776, 'learning_rate': 0.10915161827743518, 'reg_lambda': 86.25330065140737, 'subsample': 0.0974050022073163, 'depth': 7, 'min_data_in_leaf': 6, 'leaf_estimation_iterations': 6}. Best is trial 1 with value: 0.5139751552795031.\u001b[0m\n",
            "\u001b[32m[I 2021-10-27 08:10:39,896]\u001b[0m Trial 7 finished with value: 0.509773260359656 and parameters: {'task_type': 'GPU', 'boosting_type': 'Ordered', 'bootstrap_type': 'Bernoulli', 'iterations': 10000, 'od_wait': 1534, 'random_strength': 26.54714235202714, 'learning_rate': 0.27301076189457113, 'reg_lambda': 41.43350531623143, 'subsample': 0.43460778467197914, 'depth': 9, 'min_data_in_leaf': 2, 'leaf_estimation_iterations': 13}. Best is trial 1 with value: 0.5139751552795031.\u001b[0m\n",
            "\u001b[32m[I 2021-10-27 08:10:58,589]\u001b[0m Trial 8 finished with value: 0.5070866141732283 and parameters: {'task_type': 'GPU', 'boosting_type': 'Plain', 'bootstrap_type': 'Bernoulli', 'iterations': 10000, 'od_wait': 838, 'random_strength': 40.61153717248774, 'learning_rate': 0.10046280407535585, 'reg_lambda': 8.4933943955269, 'subsample': 0.8602534030361325, 'depth': 10, 'min_data_in_leaf': 14, 'leaf_estimation_iterations': 7}. Best is trial 1 with value: 0.5139751552795031.\u001b[0m\n",
            "\u001b[32m[I 2021-10-27 08:12:26,531]\u001b[0m Trial 9 finished with value: 0.5074393108848865 and parameters: {'task_type': 'GPU', 'boosting_type': 'Ordered', 'bootstrap_type': 'Bernoulli', 'iterations': 10000, 'od_wait': 973, 'random_strength': 15.943403712832698, 'learning_rate': 0.24358106694347384, 'reg_lambda': 15.580047118694802, 'subsample': 0.03690639378167071, 'depth': 10, 'min_data_in_leaf': 11, 'leaf_estimation_iterations': 8}. Best is trial 1 with value: 0.5139751552795031.\u001b[0m\n",
            "\u001b[32m[I 2021-10-27 08:13:04,452]\u001b[0m Trial 10 finished with value: 0.4425059476605868 and parameters: {'task_type': 'GPU', 'boosting_type': 'Plain', 'bootstrap_type': 'Bernoulli', 'iterations': 10000, 'od_wait': 1123, 'random_strength': 33.5649953936503, 'learning_rate': 0.18226734420245227, 'reg_lambda': 62.68606024713903, 'subsample': 0.7207779172065611, 'depth': 1, 'min_data_in_leaf': 21, 'leaf_estimation_iterations': 15}. Best is trial 1 with value: 0.5139751552795031.\u001b[0m\n",
            "\u001b[32m[I 2021-10-27 08:13:27,942]\u001b[0m Trial 11 finished with value: 0.515928515928516 and parameters: {'task_type': 'GPU', 'boosting_type': 'Ordered', 'bootstrap_type': 'Bernoulli', 'iterations': 10000, 'od_wait': 1483, 'random_strength': 12.617464037190398, 'learning_rate': 0.28830470507627093, 'reg_lambda': 77.52827458329311, 'subsample': 0.2501927469467784, 'depth': 5, 'min_data_in_leaf': 8, 'leaf_estimation_iterations': 1}. Best is trial 11 with value: 0.515928515928516.\u001b[0m\n",
            "\u001b[32m[I 2021-10-27 08:13:52,234]\u001b[0m Trial 12 finished with value: 0.5136612021857924 and parameters: {'task_type': 'GPU', 'boosting_type': 'Ordered', 'bootstrap_type': 'Bernoulli', 'iterations': 10000, 'od_wait': 1390, 'random_strength': 10.01344931259739, 'learning_rate': 0.19334522388890518, 'reg_lambda': 83.93981106120951, 'subsample': 0.6737023804768376, 'depth': 4, 'min_data_in_leaf': 7, 'leaf_estimation_iterations': 1}. Best is trial 11 with value: 0.515928515928516.\u001b[0m\n",
            "\u001b[32m[I 2021-10-27 08:14:56,205]\u001b[0m Trial 13 finished with value: 0.5140625 and parameters: {'task_type': 'GPU', 'boosting_type': 'Ordered', 'bootstrap_type': 'Bernoulli', 'iterations': 10000, 'od_wait': 1749, 'random_strength': 10.542262010340213, 'learning_rate': 0.13857364816315934, 'reg_lambda': 96.10851839367444, 'subsample': 0.22839606700916104, 'depth': 4, 'min_data_in_leaf': 5, 'leaf_estimation_iterations': 10}. Best is trial 11 with value: 0.515928515928516.\u001b[0m\n",
            "\u001b[32m[I 2021-10-27 08:22:35,095]\u001b[0m Trial 14 finished with value: 0.5101721439749608 and parameters: {'task_type': 'GPU', 'boosting_type': 'Ordered', 'bootstrap_type': 'Bernoulli', 'iterations': 10000, 'od_wait': 1749, 'random_strength': 10.463639333360273, 'learning_rate': 0.013803077825418175, 'reg_lambda': 99.52838603304652, 'subsample': 0.2222212193760672, 'depth': 2, 'min_data_in_leaf': 4, 'leaf_estimation_iterations': 10}. Best is trial 11 with value: 0.515928515928516.\u001b[0m\n",
            "\u001b[32m[I 2021-10-27 08:23:08,216]\u001b[0m Trial 15 finished with value: 0.514866979655712 and parameters: {'task_type': 'GPU', 'boosting_type': 'Ordered', 'bootstrap_type': 'Bernoulli', 'iterations': 10000, 'od_wait': 1781, 'random_strength': 13.358460983627982, 'learning_rate': 0.12822309882471172, 'reg_lambda': 57.31907055607931, 'subsample': 0.22202980229962269, 'depth': 5, 'min_data_in_leaf': 18, 'leaf_estimation_iterations': 5}. Best is trial 11 with value: 0.515928515928516.\u001b[0m\n",
            "\u001b[32m[I 2021-10-27 08:23:44,679]\u001b[0m Trial 16 finished with value: 0.5139318885448916 and parameters: {'task_type': 'GPU', 'boosting_type': 'Ordered', 'bootstrap_type': 'Bernoulli', 'iterations': 10000, 'od_wait': 1352, 'random_strength': 21.370528722092136, 'learning_rate': 0.2135676054102444, 'reg_lambda': 55.223528721335896, 'subsample': 0.29643894586441494, 'depth': 6, 'min_data_in_leaf': 22, 'leaf_estimation_iterations': 4}. Best is trial 11 with value: 0.515928515928516.\u001b[0m\n",
            "\u001b[32m[I 2021-10-27 08:24:46,355]\u001b[0m Trial 17 finished with value: 0.5155763239875389 and parameters: {'task_type': 'GPU', 'boosting_type': 'Ordered', 'bootstrap_type': 'Bernoulli', 'iterations': 10000, 'od_wait': 1813, 'random_strength': 32.534316826632384, 'learning_rate': 0.07316323754442791, 'reg_lambda': 46.855417740664166, 'subsample': 0.15960283195790465, 'depth': 7, 'min_data_in_leaf': 17, 'leaf_estimation_iterations': 2}. Best is trial 11 with value: 0.515928515928516.\u001b[0m\n",
            "\u001b[32m[I 2021-10-27 08:25:20,084]\u001b[0m Trial 18 finished with value: 0.5063091482649843 and parameters: {'task_type': 'GPU', 'boosting_type': 'Plain', 'bootstrap_type': 'Bernoulli', 'iterations': 10000, 'od_wait': 1436, 'random_strength': 34.194850427560844, 'learning_rate': 0.04641176472294434, 'reg_lambda': 30.0928536561498, 'subsample': 0.13229254388146314, 'depth': 7, 'min_data_in_leaf': 30, 'leaf_estimation_iterations': 2}. Best is trial 11 with value: 0.515928515928516.\u001b[0m\n",
            "\u001b[32m[I 2021-10-27 08:27:52,078]\u001b[0m Trial 19 finished with value: 0.5151750972762645 and parameters: {'task_type': 'GPU', 'boosting_type': 'Ordered', 'bootstrap_type': 'Bernoulli', 'iterations': 10000, 'od_wait': 1799, 'random_strength': 48.4552966914347, 'learning_rate': 0.05242114729717595, 'reg_lambda': 77.39667782498029, 'subsample': 0.31900082926647966, 'depth': 7, 'min_data_in_leaf': 16, 'leaf_estimation_iterations': 1}. Best is trial 11 with value: 0.515928515928516.\u001b[0m\n",
            "\u001b[32m[I 2021-10-27 08:29:27,839]\u001b[0m Trial 20 finished with value: 0.5136612021857924 and parameters: {'task_type': 'GPU', 'boosting_type': 'Ordered', 'bootstrap_type': 'Bernoulli', 'iterations': 10000, 'od_wait': 1645, 'random_strength': 33.25292408735853, 'learning_rate': 0.07128027378317679, 'reg_lambda': 41.97991998696842, 'subsample': 0.15289026441364478, 'depth': 8, 'min_data_in_leaf': 23, 'leaf_estimation_iterations': 3}. Best is trial 11 with value: 0.515928515928516.\u001b[0m\n",
            "\u001b[32m[I 2021-10-27 08:34:21,697]\u001b[0m Trial 21 finished with value: 0.5136186770428015 and parameters: {'task_type': 'GPU', 'boosting_type': 'Ordered', 'bootstrap_type': 'Bernoulli', 'iterations': 10000, 'od_wait': 1800, 'random_strength': 48.462460283550925, 'learning_rate': 0.027363973023233068, 'reg_lambda': 75.34714648545449, 'subsample': 0.3402001481878929, 'depth': 7, 'min_data_in_leaf': 17, 'leaf_estimation_iterations': 1}. Best is trial 11 with value: 0.515928515928516.\u001b[0m\n",
            "\u001b[32m[I 2021-10-27 08:35:28,776]\u001b[0m Trial 22 finished with value: 0.5175370226032736 and parameters: {'task_type': 'GPU', 'boosting_type': 'Ordered', 'bootstrap_type': 'Bernoulli', 'iterations': 10000, 'od_wait': 1885, 'random_strength': 39.905178171307696, 'learning_rate': 0.07228102327580743, 'reg_lambda': 46.28121234280296, 'subsample': 0.34756191386219576, 'depth': 5, 'min_data_in_leaf': 15, 'leaf_estimation_iterations': 1}. Best is trial 22 with value: 0.5175370226032736.\u001b[0m\n",
            "\u001b[32m[I 2021-10-27 08:36:09,085]\u001b[0m Trial 23 finished with value: 0.5178849144634525 and parameters: {'task_type': 'GPU', 'boosting_type': 'Ordered', 'bootstrap_type': 'Bernoulli', 'iterations': 10000, 'od_wait': 1927, 'random_strength': 39.24313941467922, 'learning_rate': 0.082362239207817, 'reg_lambda': 47.8990395659929, 'subsample': 0.5128598894233571, 'depth': 5, 'min_data_in_leaf': 13, 'leaf_estimation_iterations': 3}. Best is trial 23 with value: 0.5178849144634525.\u001b[0m\n",
            "\u001b[32m[I 2021-10-27 08:36:45,639]\u001b[0m Trial 24 finished with value: 0.5163297045101088 and parameters: {'task_type': 'GPU', 'boosting_type': 'Ordered', 'bootstrap_type': 'Bernoulli', 'iterations': 10000, 'od_wait': 1969, 'random_strength': 39.78607329727834, 'learning_rate': 0.08343939848334142, 'reg_lambda': 29.094316404958516, 'subsample': 0.57080862355869, 'depth': 5, 'min_data_in_leaf': 11, 'leaf_estimation_iterations': 3}. Best is trial 23 with value: 0.5178849144634525.\u001b[0m\n",
            "\u001b[32m[I 2021-10-27 08:37:25,137]\u001b[0m Trial 25 finished with value: 0.5144644253322909 and parameters: {'task_type': 'GPU', 'boosting_type': 'Ordered', 'bootstrap_type': 'Bernoulli', 'iterations': 10000, 'od_wait': 1994, 'random_strength': 39.80620501224441, 'learning_rate': 0.08142041359608683, 'reg_lambda': 30.063534550810115, 'subsample': 0.5405390976847144, 'depth': 3, 'min_data_in_leaf': 13, 'leaf_estimation_iterations': 6}. Best is trial 23 with value: 0.5178849144634525.\u001b[0m\n",
            "\u001b[32m[I 2021-10-27 08:37:36,684]\u001b[0m Trial 26 finished with value: 0.513302034428795 and parameters: {'task_type': 'GPU', 'boosting_type': 'Plain', 'bootstrap_type': 'Bernoulli', 'iterations': 10000, 'od_wait': 1886, 'random_strength': 43.42964775770353, 'learning_rate': 0.12046415116197853, 'reg_lambda': 22.650191644753832, 'subsample': 0.6270921933433917, 'depth': 5, 'min_data_in_leaf': 10, 'leaf_estimation_iterations': 5}. Best is trial 23 with value: 0.5178849144634525.\u001b[0m\n",
            "\u001b[32m[I 2021-10-27 08:38:05,244]\u001b[0m Trial 27 finished with value: 0.514866979655712 and parameters: {'task_type': 'GPU', 'boosting_type': 'Ordered', 'bootstrap_type': 'Bernoulli', 'iterations': 10000, 'od_wait': 1663, 'random_strength': 35.86685418295801, 'learning_rate': 0.0825376851405058, 'reg_lambda': 37.556660460019785, 'subsample': 0.7381092425689688, 'depth': 3, 'min_data_in_leaf': 12, 'leaf_estimation_iterations': 3}. Best is trial 23 with value: 0.5178849144634525.\u001b[0m\n",
            "\u001b[32m[I 2021-10-27 08:40:23,490]\u001b[0m Trial 28 finished with value: 0.516783762685402 and parameters: {'task_type': 'GPU', 'boosting_type': 'Ordered', 'bootstrap_type': 'Bernoulli', 'iterations': 10000, 'od_wait': 1951, 'random_strength': 44.303964629527215, 'learning_rate': 0.022463177538232938, 'reg_lambda': 50.56919952225169, 'subsample': 0.4985108826591236, 'depth': 6, 'min_data_in_leaf': 19, 'leaf_estimation_iterations': 3}. Best is trial 23 with value: 0.5178849144634525.\u001b[0m\n",
            "\u001b[32m[I 2021-10-27 08:42:03,253]\u001b[0m Trial 29 finished with value: 0.5140625 and parameters: {'task_type': 'GPU', 'boosting_type': 'Ordered', 'bootstrap_type': 'Bernoulli', 'iterations': 10000, 'od_wait': 1895, 'random_strength': 44.6401824042945, 'learning_rate': 0.026027901939376964, 'reg_lambda': 51.22324369355234, 'subsample': 0.49970092291953605, 'depth': 6, 'min_data_in_leaf': 20, 'leaf_estimation_iterations': 5}. Best is trial 23 with value: 0.5178849144634525.\u001b[0m\n",
            "\u001b[32m[I 2021-10-27 08:44:17,874]\u001b[0m Trial 30 finished with value: 0.514419329696025 and parameters: {'task_type': 'GPU', 'boosting_type': 'Ordered', 'bootstrap_type': 'Bernoulli', 'iterations': 10000, 'od_wait': 1232, 'random_strength': 30.241552350606938, 'learning_rate': 0.03428988757387459, 'reg_lambda': 63.72163059160016, 'subsample': 0.38430125623594824, 'depth': 8, 'min_data_in_leaf': 24, 'leaf_estimation_iterations': 8}. Best is trial 23 with value: 0.5178849144634525.\u001b[0m\n",
            "\u001b[32m[I 2021-10-27 08:44:50,353]\u001b[0m Trial 31 finished with value: 0.5155763239875389 and parameters: {'task_type': 'GPU', 'boosting_type': 'Ordered', 'bootstrap_type': 'Bernoulli', 'iterations': 10000, 'od_wait': 1967, 'random_strength': 37.3367511134591, 'learning_rate': 0.10099295150834209, 'reg_lambda': 35.19336112872584, 'subsample': 0.5024749874795635, 'depth': 5, 'min_data_in_leaf': 15, 'leaf_estimation_iterations': 3}. Best is trial 23 with value: 0.5178849144634525.\u001b[0m\n",
            "\u001b[32m[I 2021-10-27 08:48:53,429]\u001b[0m Trial 32 finished with value: 0.5128604832424006 and parameters: {'task_type': 'GPU', 'boosting_type': 'Ordered', 'bootstrap_type': 'Bernoulli', 'iterations': 10000, 'od_wait': 1868, 'random_strength': 41.897243439048545, 'learning_rate': 0.010090669767381398, 'reg_lambda': 45.78374327690724, 'subsample': 0.5785730367933439, 'depth': 4, 'min_data_in_leaf': 20, 'leaf_estimation_iterations': 4}. Best is trial 23 with value: 0.5178849144634525.\u001b[0m\n",
            "\u001b[32m[I 2021-10-27 08:49:39,751]\u001b[0m Trial 33 finished with value: 0.5183450429352069 and parameters: {'task_type': 'GPU', 'boosting_type': 'Ordered', 'bootstrap_type': 'Bernoulli', 'iterations': 10000, 'od_wait': 1695, 'random_strength': 46.28913076056758, 'learning_rate': 0.058306937856818564, 'reg_lambda': 23.954942895007285, 'subsample': 0.4726432043058453, 'depth': 6, 'min_data_in_leaf': 15, 'leaf_estimation_iterations': 3}. Best is trial 33 with value: 0.5183450429352069.\u001b[0m\n",
            "\u001b[32m[I 2021-10-27 08:50:26,159]\u001b[0m Trial 34 finished with value: 0.514866979655712 and parameters: {'task_type': 'GPU', 'boosting_type': 'Ordered', 'bootstrap_type': 'Bernoulli', 'iterations': 10000, 'od_wait': 1683, 'random_strength': 46.22807156252968, 'learning_rate': 0.05539938165455274, 'reg_lambda': 4.287950921360661, 'subsample': 0.39256015265622957, 'depth': 6, 'min_data_in_leaf': 19, 'leaf_estimation_iterations': 2}. Best is trial 33 with value: 0.5183450429352069.\u001b[0m\n",
            "\u001b[32m[I 2021-10-27 08:50:48,852]\u001b[0m Trial 35 finished with value: 0.5120622568093385 and parameters: {'task_type': 'GPU', 'boosting_type': 'Ordered', 'bootstrap_type': 'Bernoulli', 'iterations': 10000, 'od_wait': 1562, 'random_strength': 49.680619913303715, 'learning_rate': 0.1580701692670457, 'reg_lambda': 52.693393564595695, 'subsample': 0.47004298086976876, 'depth': 6, 'min_data_in_leaf': 15, 'leaf_estimation_iterations': 6}. Best is trial 33 with value: 0.5183450429352069.\u001b[0m\n",
            "\u001b[32m[I 2021-10-27 08:51:51,742]\u001b[0m Trial 36 finished with value: 0.5132605304212168 and parameters: {'task_type': 'GPU', 'boosting_type': 'Ordered', 'bootstrap_type': 'Bernoulli', 'iterations': 10000, 'od_wait': 1711, 'random_strength': 46.3785015105349, 'learning_rate': 0.06582429322337634, 'reg_lambda': 24.37132935762832, 'subsample': 0.395881321515279, 'depth': 8, 'min_data_in_leaf': 25, 'leaf_estimation_iterations': 2}. Best is trial 33 with value: 0.5183450429352069.\u001b[0m\n",
            "\u001b[32m[I 2021-10-27 08:53:17,360]\u001b[0m Trial 37 finished with value: 0.5152224824355972 and parameters: {'task_type': 'GPU', 'boosting_type': 'Ordered', 'bootstrap_type': 'Bernoulli', 'iterations': 10000, 'od_wait': 1845, 'random_strength': 42.75407629114526, 'learning_rate': 0.03776662644919499, 'reg_lambda': 61.08412879467184, 'subsample': 0.6334216711308728, 'depth': 4, 'min_data_in_leaf': 14, 'leaf_estimation_iterations': 3}. Best is trial 33 with value: 0.5183450429352069.\u001b[0m\n",
            "\u001b[32m[I 2021-10-27 08:53:34,079]\u001b[0m Trial 38 finished with value: 0.5164835164835165 and parameters: {'task_type': 'GPU', 'boosting_type': 'Plain', 'bootstrap_type': 'Bernoulli', 'iterations': 10000, 'od_wait': 506, 'random_strength': 37.31589048214345, 'learning_rate': 0.09480709898108028, 'reg_lambda': 39.2535261690626, 'subsample': 0.8200458861575712, 'depth': 6, 'min_data_in_leaf': 17, 'leaf_estimation_iterations': 4}. Best is trial 33 with value: 0.5183450429352069.\u001b[0m\n",
            "\u001b[32m[I 2021-10-27 08:54:24,454]\u001b[0m Trial 39 finished with value: 0.5124610591900312 and parameters: {'task_type': 'GPU', 'boosting_type': 'Ordered', 'bootstrap_type': 'Bernoulli', 'iterations': 10000, 'od_wait': 1600, 'random_strength': 46.32518231027392, 'learning_rate': 0.06006647315399477, 'reg_lambda': 67.65311725138, 'subsample': 0.45431534219676023, 'depth': 3, 'min_data_in_leaf': 13, 'leaf_estimation_iterations': 4}. Best is trial 33 with value: 0.5183450429352069.\u001b[0m\n",
            "\u001b[32m[I 2021-10-27 08:55:27,576]\u001b[0m Trial 40 finished with value: 0.5129007036747458 and parameters: {'task_type': 'GPU', 'boosting_type': 'Ordered', 'bootstrap_type': 'Bernoulli', 'iterations': 10000, 'od_wait': 1311, 'random_strength': 30.51242678936967, 'learning_rate': 0.039941413336428, 'reg_lambda': 15.902166348724009, 'subsample': 0.4995782465067211, 'depth': 5, 'min_data_in_leaf': 9, 'leaf_estimation_iterations': 12}. Best is trial 33 with value: 0.5183450429352069.\u001b[0m\n",
            "\u001b[32m[I 2021-10-27 08:55:50,588]\u001b[0m Trial 41 finished with value: 0.5171339563862929 and parameters: {'task_type': 'GPU', 'boosting_type': 'Plain', 'bootstrap_type': 'Bernoulli', 'iterations': 10000, 'od_wait': 603, 'random_strength': 41.19425681715312, 'learning_rate': 0.10284067294855798, 'reg_lambda': 39.73672556025956, 'subsample': 0.9917978865805969, 'depth': 6, 'min_data_in_leaf': 17, 'leaf_estimation_iterations': 4}. Best is trial 33 with value: 0.5183450429352069.\u001b[0m\n",
            "\u001b[32m[I 2021-10-27 08:56:06,308]\u001b[0m Trial 42 finished with value: 0.5114083398898505 and parameters: {'task_type': 'GPU', 'boosting_type': 'Plain', 'bootstrap_type': 'Bernoulli', 'iterations': 10000, 'od_wait': 779, 'random_strength': 41.86900546332957, 'learning_rate': 0.09178281889481078, 'reg_lambda': 45.87198156167357, 'subsample': 0.9950104174356001, 'depth': 6, 'min_data_in_leaf': 18, 'leaf_estimation_iterations': 2}. Best is trial 33 with value: 0.5183450429352069.\u001b[0m\n",
            "\u001b[32m[I 2021-10-27 08:56:20,555]\u001b[0m Trial 43 finished with value: 0.5144644253322909 and parameters: {'task_type': 'GPU', 'boosting_type': 'Plain', 'bootstrap_type': 'Bernoulli', 'iterations': 10000, 'od_wait': 1137, 'random_strength': 43.886846999747654, 'learning_rate': 0.10587623547566324, 'reg_lambda': 48.80943243258204, 'subsample': 0.8883988382481325, 'depth': 7, 'min_data_in_leaf': 16, 'leaf_estimation_iterations': 5}. Best is trial 33 with value: 0.5183450429352069.\u001b[0m\n",
            "\u001b[32m[I 2021-10-27 08:56:34,155]\u001b[0m Trial 44 finished with value: 0.5132192846034215 and parameters: {'task_type': 'GPU', 'boosting_type': 'Plain', 'bootstrap_type': 'Bernoulli', 'iterations': 10000, 'od_wait': 976, 'random_strength': 38.092518784278745, 'learning_rate': 0.11970878424662139, 'reg_lambda': 42.89159220212686, 'subsample': 0.7034379307083667, 'depth': 4, 'min_data_in_leaf': 14, 'leaf_estimation_iterations': 7}. Best is trial 33 with value: 0.5183450429352069.\u001b[0m\n",
            "\u001b[32m[I 2021-10-27 08:56:48,920]\u001b[0m Trial 45 finished with value: 0.5121378230227094 and parameters: {'task_type': 'GPU', 'boosting_type': 'Plain', 'bootstrap_type': 'Bernoulli', 'iterations': 10000, 'od_wait': 756, 'random_strength': 40.897233268817324, 'learning_rate': 0.14364899411524984, 'reg_lambda': 20.764189789560977, 'subsample': 0.7710187306064646, 'depth': 5, 'min_data_in_leaf': 19, 'leaf_estimation_iterations': 1}. Best is trial 33 with value: 0.5183450429352069.\u001b[0m\n",
            "\u001b[32m[I 2021-10-27 08:57:41,808]\u001b[0m Trial 46 finished with value: 0.515625 and parameters: {'task_type': 'GPU', 'boosting_type': 'Plain', 'bootstrap_type': 'Bernoulli', 'iterations': 10000, 'od_wait': 1927, 'random_strength': 35.563943351559615, 'learning_rate': 0.022368740618424775, 'reg_lambda': 32.8838598815302, 'subsample': 0.6344119943290175, 'depth': 6, 'min_data_in_leaf': 11, 'leaf_estimation_iterations': 3}. Best is trial 33 with value: 0.5183450429352069.\u001b[0m\n",
            "\u001b[32m[I 2021-10-27 08:58:02,934]\u001b[0m Trial 47 finished with value: 0.5106048703849175 and parameters: {'task_type': 'GPU', 'boosting_type': 'Plain', 'bootstrap_type': 'Bernoulli', 'iterations': 10000, 'od_wait': 620, 'random_strength': 27.364684693342603, 'learning_rate': 0.0710688065549822, 'reg_lambda': 58.08958599729547, 'subsample': 0.3485316028544772, 'depth': 8, 'min_data_in_leaf': 21, 'leaf_estimation_iterations': 4}. Best is trial 33 with value: 0.5183450429352069.\u001b[0m\n",
            "\u001b[32m[I 2021-10-27 08:58:23,388]\u001b[0m Trial 48 finished with value: 0.5147744945567653 and parameters: {'task_type': 'GPU', 'boosting_type': 'Ordered', 'bootstrap_type': 'Bernoulli', 'iterations': 10000, 'od_wait': 1937, 'random_strength': 45.188542828478155, 'learning_rate': 0.17308013779199283, 'reg_lambda': 52.536512398005264, 'subsample': 0.27189245276729296, 'depth': 5, 'min_data_in_leaf': 15, 'leaf_estimation_iterations': 2}. Best is trial 33 with value: 0.5183450429352069.\u001b[0m\n",
            "\u001b[32m[I 2021-10-27 08:59:04,365]\u001b[0m Trial 49 finished with value: 0.5152701644479248 and parameters: {'task_type': 'GPU', 'boosting_type': 'Ordered', 'bootstrap_type': 'Bernoulli', 'iterations': 10000, 'od_wait': 1726, 'random_strength': 47.70699698341815, 'learning_rate': 0.0492549628278648, 'reg_lambda': 12.401415388436085, 'subsample': 0.41568267021552546, 'depth': 6, 'min_data_in_leaf': 12, 'leaf_estimation_iterations': 6}. Best is trial 33 with value: 0.5183450429352069.\u001b[0m\n"
          ]
        }
      ]
    },
    {
      "cell_type": "code",
      "metadata": {
        "id": "UEI7hHZwyJJe",
        "colab": {
          "base_uri": "https://localhost:8080/"
        },
        "outputId": "2f442928-ebc9-4297-ab79-ae7fe3d83b7a"
      },
      "source": [
        "cb_params = study.best_trial.params\n",
        "cb_params"
      ],
      "execution_count": null,
      "outputs": [
        {
          "output_type": "execute_result",
          "data": {
            "text/plain": [
              "{'boosting_type': 'Ordered',\n",
              " 'bootstrap_type': 'Bernoulli',\n",
              " 'depth': 6,\n",
              " 'iterations': 10000,\n",
              " 'leaf_estimation_iterations': 3,\n",
              " 'learning_rate': 0.058306937856818564,\n",
              " 'min_data_in_leaf': 15,\n",
              " 'od_wait': 1695,\n",
              " 'random_strength': 46.28913076056758,\n",
              " 'reg_lambda': 23.954942895007285,\n",
              " 'subsample': 0.4726432043058453,\n",
              " 'task_type': 'GPU'}"
            ]
          },
          "metadata": {},
          "execution_count": 51
        }
      ]
    },
    {
      "cell_type": "markdown",
      "metadata": {
        "id": "tlTzk2ngs8w3"
      },
      "source": [
        "## Cross-Validation"
      ]
    },
    {
      "cell_type": "code",
      "metadata": {
        "id": "xJ-60edcs_1G"
      },
      "source": [
        "def cross_val(X, y, model, params, folds=10):\n",
        "\n",
        "    score = []\n",
        "    \n",
        "    skf = StratifiedKFold(n_splits=folds, shuffle=True, random_state=21)\n",
        "\n",
        "    for fold, (train_idx, test_idx) in enumerate(skf.split(X, y)):\n",
        "        print(f\"Fold: {fold+1}\")\n",
        "        x_train, y_train = X.iloc[train_idx], y.iloc[train_idx]\n",
        "        x_test, y_test = X.iloc[test_idx], y.iloc[test_idx]\n",
        " \n",
        "        alg = model(**params,random_state=2021)\n",
        "        alg.fit(x_train,y_train,eval_set=[(x_test,y_test)],cat_features=cater.to_list(),verbose=False,early_stopping_rounds=100)\n",
        "\n",
        "        pred = alg.predict(x_test)\n",
        "        f1 = f1_score(y_test, pred)\n",
        "        score.append(f1)\n",
        "     \n",
        "        print(f\" F1_score: {f1}\")\n",
        "        print(\"-\"*50)\n",
        "     \n",
        "    print(\"\\nmean F1_score:\",np.array(score).mean())\n",
        "\n",
        "    return alg"
      ],
      "execution_count": null,
      "outputs": []
    },
    {
      "cell_type": "code",
      "metadata": {
        "id": "0nCuasxdteIY"
      },
      "source": [
        "x_new = x[col]\n",
        "y_new = y"
      ],
      "execution_count": null,
      "outputs": []
    },
    {
      "cell_type": "code",
      "metadata": {
        "id": "cTRZZRKdtwqy",
        "colab": {
          "base_uri": "https://localhost:8080/"
        },
        "outputId": "095f0d15-e3bd-4d17-bf0c-82fe1b523ec5"
      },
      "source": [
        "score_cb = cross_val(x_new, y_new, CatBoostClassifier, cb_params)"
      ],
      "execution_count": null,
      "outputs": [
        {
          "output_type": "stream",
          "name": "stdout",
          "text": [
            "Fold: 1\n",
            " F1_score: 0.5349922239502334\n",
            "--------------------------------------------------\n",
            "Fold: 2\n",
            " F1_score: 0.503125\n",
            "--------------------------------------------------\n",
            "Fold: 3\n",
            " F1_score: 0.51875\n",
            "--------------------------------------------------\n",
            "Fold: 4\n",
            " F1_score: 0.47543581616481767\n",
            "--------------------------------------------------\n",
            "Fold: 5\n",
            " F1_score: 0.5294117647058822\n",
            "--------------------------------------------------\n",
            "Fold: 6\n",
            " F1_score: 0.51875\n",
            "--------------------------------------------------\n",
            "Fold: 7\n",
            " F1_score: 0.5115562403697997\n",
            "--------------------------------------------------\n",
            "Fold: 8\n",
            " F1_score: 0.4897314375987362\n",
            "--------------------------------------------------\n",
            "Fold: 9\n",
            " F1_score: 0.5314900153609831\n",
            "--------------------------------------------------\n",
            "Fold: 10\n",
            " F1_score: 0.49520766773162944\n",
            "--------------------------------------------------\n",
            "\n",
            "mean F1_score: 0.5108450165882081\n"
          ]
        }
      ]
    },
    {
      "cell_type": "code",
      "metadata": {
        "colab": {
          "base_uri": "https://localhost:8080/",
          "height": 184
        },
        "id": "dWEDF49XDQHu",
        "outputId": "a22b4eab-d5f1-42e9-eb27-8410487b6dd6"
      },
      "source": [
        "fig, ax = plt.subplots(1, 1,figsize=(17, 8))\n",
        " \n",
        "plot_roc_curve(score_cb, x_val[col], y_val, ax=ax)"
      ],
      "execution_count": null,
      "outputs": [
        {
          "output_type": "execute_result",
          "data": {
            "text/plain": [
              "<sklearn.metrics._plot.roc_curve.RocCurveDisplay at 0x7fd11db4da90>"
            ]
          },
          "metadata": {},
          "execution_count": 60
        },
        {
          "output_type": "display_data",
          "data": {
            "image/png": "[encoded data removed]",
            "text/plain": [
              "<Figure size 1224x576 with 1 Axes>"
            ]
          },
          "metadata": {
            "needs_background": "light"
          }
        }
      ]
    },
    {
      "cell_type": "code",
      "metadata": {
        "colab": {
          "base_uri": "https://localhost:8080/",
          "height": 320
        },
        "id": "84R52ZcAGV-F",
        "outputId": "0a88e495-d0ad-4f1e-e6ea-2124359908f2"
      },
      "source": [
        "plot_confusion_matrix(score_cb, x_val[col], y_val)"
      ],
      "execution_count": null,
      "outputs": [
        {
          "output_type": "execute_result",
          "data": {
            "text/plain": [
              "<sklearn.metrics._plot.confusion_matrix.ConfusionMatrixDisplay at 0x7fd11d4ae890>"
            ]
          },
          "metadata": {},
          "execution_count": 64
        },
        {
          "output_type": "display_data",
          "data": {
            "image/png": "[encoded data removed]",
            "text/plain": [
              "<Figure size 432x288 with 2 Axes>"
            ]
          },
          "metadata": {
            "needs_background": "light"
          }
        }
      ]
    },
    {
      "cell_type": "code",
      "metadata": {
        "id": "1iA3TnqcGvG9"
      },
      "source": [
        "pred = score_cb.predict(x_val[col])"
      ],
      "execution_count": null,
      "outputs": []
    },
    {
      "cell_type": "code",
      "metadata": {
        "colab": {
          "base_uri": "https://localhost:8080/",
          "height": 188
        },
        "id": "9vf5fqe5GzrP",
        "outputId": "9433e14a-1acf-40b3-90f8-d1d6760af6c3"
      },
      "source": [
        "classification_report(y_val, pred)"
      ],
      "execution_count": null,
      "outputs": [
        {
          "output_type": "execute_result",
          "data": {
            "application/vnd.google.colaboratory.intrinsic+json": {
              "type": "string"
            },
            "text/plain": [
              "'              precision    recall  f1-score   support\\n\\n           0       0.94      1.00      0.97     10028\\n           1       0.96      0.35      0.52       934\\n\\n    accuracy                           0.94     10962\\n   macro avg       0.95      0.68      0.74     10962\\nweighted avg       0.94      0.94      0.93     10962\\n'"
            ]
          },
          "metadata": {},
          "execution_count": 67
        }
      ]
    },
    {
      "cell_type": "code",
      "metadata": {
        "colab": {
          "base_uri": "https://localhost:8080/"
        },
        "id": "owfH7H_KG8kb",
        "outputId": "f133a179-bdee-4ea3-ccd8-3ba736f06ea8"
      },
      "source": [
        "f1_score(y_val, pred)"
      ],
      "execution_count": null,
      "outputs": [
        {
          "output_type": "execute_result",
          "data": {
            "text/plain": [
              "0.5179968701095462"
            ]
          },
          "metadata": {},
          "execution_count": 68
        }
      ]
    },
    {
      "cell_type": "code",
      "metadata": {
        "id": "6UvyogPDHCl9"
      },
      "source": [
        "# make a submission\n",
        "sub = pd.read_csv(\"/content/drive/MyDrive/Hr analytics/sample_submission.csv\")"
      ],
      "execution_count": null,
      "outputs": []
    },
    {
      "cell_type": "code",
      "metadata": {
        "colab": {
          "base_uri": "https://localhost:8080/",
          "height": 419
        },
        "id": "STd187DeHTLI",
        "outputId": "37d44490-c961-4741-9a3a-12560f842bd8"
      },
      "source": [
        "sub"
      ],
      "execution_count": null,
      "outputs": [
        {
          "output_type": "execute_result",
          "data": {
            "text/html": [
              "<div>\n",
              "<style scoped>\n",
              "    .dataframe tbody tr th:only-of-type {\n",
              "        vertical-align: middle;\n",
              "    }\n",
              "\n",
              "    .dataframe tbody tr th {\n",
              "        vertical-align: top;\n",
              "    }\n",
              "\n",
              "    .dataframe thead th {\n",
              "        text-align: right;\n",
              "    }\n",
              "</style>\n",
              "<table border=\"1\" class=\"dataframe\">\n",
              "  <thead>\n",
              "    <tr style=\"text-align: right;\">\n",
              "      <th></th>\n",
              "      <th>employee_id</th>\n",
              "      <th>is_promoted</th>\n",
              "    </tr>\n",
              "  </thead>\n",
              "  <tbody>\n",
              "    <tr>\n",
              "      <th>0</th>\n",
              "      <td>8724</td>\n",
              "      <td>0</td>\n",
              "    </tr>\n",
              "    <tr>\n",
              "      <th>1</th>\n",
              "      <td>74430</td>\n",
              "      <td>0</td>\n",
              "    </tr>\n",
              "    <tr>\n",
              "      <th>2</th>\n",
              "      <td>72255</td>\n",
              "      <td>0</td>\n",
              "    </tr>\n",
              "    <tr>\n",
              "      <th>3</th>\n",
              "      <td>38562</td>\n",
              "      <td>0</td>\n",
              "    </tr>\n",
              "    <tr>\n",
              "      <th>4</th>\n",
              "      <td>64486</td>\n",
              "      <td>0</td>\n",
              "    </tr>\n",
              "    <tr>\n",
              "      <th>...</th>\n",
              "      <td>...</td>\n",
              "      <td>...</td>\n",
              "    </tr>\n",
              "    <tr>\n",
              "      <th>23485</th>\n",
              "      <td>53478</td>\n",
              "      <td>0</td>\n",
              "    </tr>\n",
              "    <tr>\n",
              "      <th>23486</th>\n",
              "      <td>25600</td>\n",
              "      <td>0</td>\n",
              "    </tr>\n",
              "    <tr>\n",
              "      <th>23487</th>\n",
              "      <td>45409</td>\n",
              "      <td>0</td>\n",
              "    </tr>\n",
              "    <tr>\n",
              "      <th>23488</th>\n",
              "      <td>1186</td>\n",
              "      <td>0</td>\n",
              "    </tr>\n",
              "    <tr>\n",
              "      <th>23489</th>\n",
              "      <td>5973</td>\n",
              "      <td>0</td>\n",
              "    </tr>\n",
              "  </tbody>\n",
              "</table>\n",
              "<p>23490 rows × 2 columns</p>\n",
              "</div>"
            ],
            "text/plain": [
              "       employee_id  is_promoted\n",
              "0             8724            0\n",
              "1            74430            0\n",
              "2            72255            0\n",
              "3            38562            0\n",
              "4            64486            0\n",
              "...            ...          ...\n",
              "23485        53478            0\n",
              "23486        25600            0\n",
              "23487        45409            0\n",
              "23488         1186            0\n",
              "23489         5973            0\n",
              "\n",
              "[23490 rows x 2 columns]"
            ]
          },
          "metadata": {},
          "execution_count": 72
        }
      ]
    },
    {
      "cell_type": "code",
      "metadata": {
        "id": "dFnYsUF7HUwd"
      },
      "source": [
        "sub.is_promoted = score_cb.predict(tester[col])"
      ],
      "execution_count": null,
      "outputs": []
    },
    {
      "cell_type": "code",
      "metadata": {
        "colab": {
          "base_uri": "https://localhost:8080/",
          "height": 359
        },
        "id": "fAm_ZBSRHf8F",
        "outputId": "879c045c-d02a-4669-9dab-fc59fbbef32c"
      },
      "source": [
        "sub.sample(10)"
      ],
      "execution_count": null,
      "outputs": [
        {
          "output_type": "execute_result",
          "data": {
            "text/html": [
              "<div>\n",
              "<style scoped>\n",
              "    .dataframe tbody tr th:only-of-type {\n",
              "        vertical-align: middle;\n",
              "    }\n",
              "\n",
              "    .dataframe tbody tr th {\n",
              "        vertical-align: top;\n",
              "    }\n",
              "\n",
              "    .dataframe thead th {\n",
              "        text-align: right;\n",
              "    }\n",
              "</style>\n",
              "<table border=\"1\" class=\"dataframe\">\n",
              "  <thead>\n",
              "    <tr style=\"text-align: right;\">\n",
              "      <th></th>\n",
              "      <th>employee_id</th>\n",
              "      <th>is_promoted</th>\n",
              "    </tr>\n",
              "  </thead>\n",
              "  <tbody>\n",
              "    <tr>\n",
              "      <th>3428</th>\n",
              "      <td>43607</td>\n",
              "      <td>0</td>\n",
              "    </tr>\n",
              "    <tr>\n",
              "      <th>9736</th>\n",
              "      <td>28568</td>\n",
              "      <td>0</td>\n",
              "    </tr>\n",
              "    <tr>\n",
              "      <th>1587</th>\n",
              "      <td>56576</td>\n",
              "      <td>0</td>\n",
              "    </tr>\n",
              "    <tr>\n",
              "      <th>10548</th>\n",
              "      <td>29053</td>\n",
              "      <td>0</td>\n",
              "    </tr>\n",
              "    <tr>\n",
              "      <th>10066</th>\n",
              "      <td>59422</td>\n",
              "      <td>0</td>\n",
              "    </tr>\n",
              "    <tr>\n",
              "      <th>11376</th>\n",
              "      <td>51683</td>\n",
              "      <td>0</td>\n",
              "    </tr>\n",
              "    <tr>\n",
              "      <th>7274</th>\n",
              "      <td>54768</td>\n",
              "      <td>1</td>\n",
              "    </tr>\n",
              "    <tr>\n",
              "      <th>19752</th>\n",
              "      <td>58133</td>\n",
              "      <td>0</td>\n",
              "    </tr>\n",
              "    <tr>\n",
              "      <th>5549</th>\n",
              "      <td>9781</td>\n",
              "      <td>0</td>\n",
              "    </tr>\n",
              "    <tr>\n",
              "      <th>4220</th>\n",
              "      <td>64009</td>\n",
              "      <td>0</td>\n",
              "    </tr>\n",
              "  </tbody>\n",
              "</table>\n",
              "</div>"
            ],
            "text/plain": [
              "       employee_id  is_promoted\n",
              "3428         43607            0\n",
              "9736         28568            0\n",
              "1587         56576            0\n",
              "10548        29053            0\n",
              "10066        59422            0\n",
              "11376        51683            0\n",
              "7274         54768            1\n",
              "19752        58133            0\n",
              "5549          9781            0\n",
              "4220         64009            0"
            ]
          },
          "metadata": {},
          "execution_count": 76
        }
      ]
    },
    {
      "cell_type": "code",
      "metadata": {
        "id": "vY1UBjiWHpux"
      },
      "source": [
        "sub.to_csv(\"my_subs.csv\", index=False)"
      ],
      "execution_count": null,
      "outputs": []
    }
  ]
}